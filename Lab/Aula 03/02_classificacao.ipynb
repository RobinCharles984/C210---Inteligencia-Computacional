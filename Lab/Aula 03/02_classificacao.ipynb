{
 "cells": [
  {
   "cell_type": "markdown",
   "metadata": {
    "id": "vbQC9I0b1biA"
   },
   "source": [
    "### Classificação\n",
    "Analisar o dataset 'iris' disponibilizado na pasta data, criar um modelo de classificação para os dados e avaliar as métricas"
   ]
  },
  {
   "cell_type": "markdown",
   "metadata": {
    "id": "YPEKGmBV1biD"
   },
   "source": [
    "#### Importando bibliotecas"
   ]
  },
  {
   "cell_type": "code",
   "execution_count": 1,
   "metadata": {
    "id": "jb4mDTJt1biF",
    "outputId": "793b97da-d4c1-4864-9c12-6cadb2d55089",
    "scrolled": true
   },
   "outputs": [
    {
     "name": "stdout",
     "output_type": "stream",
     "text": [
      "Collecting pandas\n",
      "  Obtaining dependency information for pandas from https://files.pythonhosted.org/packages/bf/2c/a0cee9c392a4c9227b835af27f9260582b994f9a2b5ec23993b596e5deb7/pandas-2.2.2-cp39-cp39-win_amd64.whl.metadata\n",
      "  Downloading pandas-2.2.2-cp39-cp39-win_amd64.whl.metadata (19 kB)\n",
      "Collecting numpy>=1.22.4 (from pandas)\n",
      "  Obtaining dependency information for numpy>=1.22.4 from https://files.pythonhosted.org/packages/52/87/bb45780eb4b9ed1e4710c2f2b42ed7224071aef6f08152f2520df0ec2ee5/numpy-2.0.1-cp39-cp39-win_amd64.whl.metadata\n",
      "  Downloading numpy-2.0.1-cp39-cp39-win_amd64.whl.metadata (60 kB)\n",
      "     ---------------------------------------- 0.0/60.9 kB ? eta -:--:--\n",
      "     --------------------------------- ------ 51.2/60.9 kB 2.6 MB/s eta 0:00:01\n",
      "     ---------------------------------------- 60.9/60.9 kB 1.6 MB/s eta 0:00:00\n",
      "Requirement already satisfied: python-dateutil>=2.8.2 in c:\\users\\aluno\\pycharmprojects\\pythonproject\\venv\\lib\\site-packages (from pandas) (2.9.0.post0)\n",
      "Collecting pytz>=2020.1 (from pandas)\n",
      "  Obtaining dependency information for pytz>=2020.1 from https://files.pythonhosted.org/packages/9c/3d/a121f284241f08268b21359bd425f7d4825cffc5ac5cd0e1b3d82ffd2b10/pytz-2024.1-py2.py3-none-any.whl.metadata\n",
      "  Downloading pytz-2024.1-py2.py3-none-any.whl.metadata (22 kB)\n",
      "Collecting tzdata>=2022.7 (from pandas)\n",
      "  Obtaining dependency information for tzdata>=2022.7 from https://files.pythonhosted.org/packages/65/58/f9c9e6be752e9fcb8b6a0ee9fb87e6e7a1f6bcab2cdc73f02bb7ba91ada0/tzdata-2024.1-py2.py3-none-any.whl.metadata\n",
      "  Downloading tzdata-2024.1-py2.py3-none-any.whl.metadata (1.4 kB)\n",
      "Requirement already satisfied: six>=1.5 in c:\\users\\aluno\\pycharmprojects\\pythonproject\\venv\\lib\\site-packages (from python-dateutil>=2.8.2->pandas) (1.16.0)\n",
      "Downloading pandas-2.2.2-cp39-cp39-win_amd64.whl (11.6 MB)\n",
      "   ---------------------------------------- 0.0/11.6 MB ? eta -:--:--\n",
      "   -- ------------------------------------- 0.8/11.6 MB 25.8 MB/s eta 0:00:01\n",
      "   -------- ------------------------------- 2.4/11.6 MB 30.1 MB/s eta 0:00:01\n",
      "   -------------------- ------------------- 6.0/11.6 MB 47.8 MB/s eta 0:00:01\n",
      "   ------------------------------ --------- 8.8/11.6 MB 51.3 MB/s eta 0:00:01\n",
      "   ------------------------------------ --- 10.5/11.6 MB 46.7 MB/s eta 0:00:01\n",
      "   ---------------------------------------  11.6/11.6 MB 54.4 MB/s eta 0:00:01\n",
      "   ---------------------------------------- 11.6/11.6 MB 40.9 MB/s eta 0:00:00\n",
      "Downloading numpy-2.0.1-cp39-cp39-win_amd64.whl (16.6 MB)\n",
      "   ---------------------------------------- 0.0/16.6 MB ? eta -:--:--\n",
      "   --- ------------------------------------ 1.6/16.6 MB 51.2 MB/s eta 0:00:01\n",
      "   ------ --------------------------------- 2.7/16.6 MB 34.7 MB/s eta 0:00:01\n",
      "   --------- ------------------------------ 3.9/16.6 MB 27.5 MB/s eta 0:00:01\n",
      "   ----------- ---------------------------- 4.8/16.6 MB 27.9 MB/s eta 0:00:01\n",
      "   ------------- -------------------------- 5.6/16.6 MB 25.6 MB/s eta 0:00:01\n",
      "   -------------- ------------------------- 6.1/16.6 MB 22.9 MB/s eta 0:00:01\n",
      "   --------------- ------------------------ 6.5/16.6 MB 20.8 MB/s eta 0:00:01\n",
      "   ---------------- ----------------------- 6.9/16.6 MB 19.2 MB/s eta 0:00:01\n",
      "   ----------------- ---------------------- 7.3/16.6 MB 17.3 MB/s eta 0:00:01\n",
      "   ------------------ --------------------- 7.8/16.6 MB 16.6 MB/s eta 0:00:01\n",
      "   ------------------- -------------------- 8.2/16.6 MB 15.9 MB/s eta 0:00:01\n",
      "   -------------------- ------------------- 8.6/16.6 MB 14.8 MB/s eta 0:00:01\n",
      "   --------------------- ------------------ 8.9/16.6 MB 14.2 MB/s eta 0:00:01\n",
      "   ---------------------- ----------------- 9.2/16.6 MB 14.0 MB/s eta 0:00:01\n",
      "   ----------------------- ---------------- 9.5/16.6 MB 13.3 MB/s eta 0:00:01\n",
      "   ----------------------- ---------------- 9.9/16.6 MB 13.1 MB/s eta 0:00:01\n",
      "   ------------------------ --------------- 10.0/16.6 MB 12.8 MB/s eta 0:00:01\n",
      "   ------------------------ --------------- 10.3/16.6 MB 12.1 MB/s eta 0:00:01\n",
      "   ------------------------- -------------- 10.4/16.6 MB 11.5 MB/s eta 0:00:01\n",
      "   ------------------------- -------------- 10.4/16.6 MB 11.1 MB/s eta 0:00:01\n",
      "   ------------------------- -------------- 10.5/16.6 MB 10.4 MB/s eta 0:00:01\n",
      "   ------------------------- -------------- 10.5/16.6 MB 9.9 MB/s eta 0:00:01\n",
      "   ------------------------- -------------- 10.5/16.6 MB 9.8 MB/s eta 0:00:01\n",
      "   ------------------------- -------------- 10.6/16.6 MB 9.2 MB/s eta 0:00:01\n",
      "   ------------------------- -------------- 10.6/16.6 MB 8.4 MB/s eta 0:00:01\n",
      "   ------------------------- -------------- 10.6/16.6 MB 8.2 MB/s eta 0:00:01\n",
      "   ------------------------- -------------- 10.6/16.6 MB 7.8 MB/s eta 0:00:01\n",
      "   ------------------------- -------------- 10.6/16.6 MB 7.8 MB/s eta 0:00:01\n",
      "   ------------------------- -------------- 10.7/16.6 MB 7.3 MB/s eta 0:00:01\n",
      "   ------------------------- -------------- 10.7/16.6 MB 7.1 MB/s eta 0:00:01\n",
      "   ------------------------- -------------- 10.8/16.6 MB 6.8 MB/s eta 0:00:01\n",
      "   ------------------------- -------------- 10.8/16.6 MB 6.8 MB/s eta 0:00:01\n",
      "   -------------------------- ------------- 10.8/16.6 MB 6.4 MB/s eta 0:00:01\n",
      "   -------------------------- ------------- 10.8/16.6 MB 6.2 MB/s eta 0:00:01\n",
      "   -------------------------- ------------- 10.8/16.6 MB 6.1 MB/s eta 0:00:01\n",
      "   -------------------------- ------------- 10.8/16.6 MB 5.9 MB/s eta 0:00:01\n",
      "   -------------------------- ------------- 10.8/16.6 MB 5.9 MB/s eta 0:00:01\n",
      "   -------------------------- ------------- 10.9/16.6 MB 5.7 MB/s eta 0:00:01\n",
      "   -------------------------- ------------- 10.9/16.6 MB 5.6 MB/s eta 0:00:02\n",
      "   -------------------------- ------------- 10.9/16.6 MB 5.4 MB/s eta 0:00:02\n",
      "   -------------------------- ------------- 10.9/16.6 MB 5.3 MB/s eta 0:00:02\n",
      "   -------------------------- ------------- 11.0/16.6 MB 5.1 MB/s eta 0:00:02\n",
      "   -------------------------- ------------- 11.0/16.6 MB 5.1 MB/s eta 0:00:02\n",
      "   -------------------------- ------------- 11.0/16.6 MB 4.9 MB/s eta 0:00:02\n",
      "   -------------------------- ------------- 11.0/16.6 MB 4.8 MB/s eta 0:00:02\n",
      "   -------------------------- ------------- 11.0/16.6 MB 4.8 MB/s eta 0:00:02\n",
      "   -------------------------- ------------- 11.1/16.6 MB 4.7 MB/s eta 0:00:02\n",
      "   -------------------------- ------------- 11.1/16.6 MB 4.5 MB/s eta 0:00:02\n",
      "   -------------------------- ------------- 11.1/16.6 MB 4.5 MB/s eta 0:00:02\n",
      "   -------------------------- ------------- 11.1/16.6 MB 4.5 MB/s eta 0:00:02\n",
      "   -------------------------- ------------- 11.1/16.6 MB 4.2 MB/s eta 0:00:02\n",
      "   -------------------------- ------------- 11.1/16.6 MB 4.2 MB/s eta 0:00:02\n",
      "   -------------------------- ------------- 11.2/16.6 MB 4.1 MB/s eta 0:00:02\n",
      "   --------------------------- ------------ 11.2/16.6 MB 4.0 MB/s eta 0:00:02\n",
      "   --------------------------- ------------ 11.3/16.6 MB 3.9 MB/s eta 0:00:02\n",
      "   --------------------------- ------------ 11.3/16.6 MB 3.8 MB/s eta 0:00:02\n",
      "   --------------------------- ------------ 11.4/16.6 MB 3.8 MB/s eta 0:00:02\n",
      "   --------------------------- ------------ 11.6/16.6 MB 3.7 MB/s eta 0:00:02\n",
      "   ---------------------------- ----------- 11.7/16.6 MB 3.7 MB/s eta 0:00:02\n",
      "   ---------------------------- ----------- 11.8/16.6 MB 3.6 MB/s eta 0:00:02\n",
      "   ---------------------------- ----------- 12.0/16.6 MB 3.6 MB/s eta 0:00:02\n",
      "   ----------------------------- ---------- 12.1/16.6 MB 3.5 MB/s eta 0:00:02\n",
      "   ----------------------------- ---------- 12.3/16.6 MB 3.5 MB/s eta 0:00:02\n",
      "   ------------------------------ --------- 12.5/16.6 MB 3.4 MB/s eta 0:00:02\n",
      "   ------------------------------ --------- 12.7/16.6 MB 3.4 MB/s eta 0:00:02\n",
      "   ------------------------------- -------- 12.9/16.6 MB 3.3 MB/s eta 0:00:02\n",
      "   ------------------------------- -------- 13.1/16.6 MB 3.3 MB/s eta 0:00:02\n",
      "   -------------------------------- ------- 13.3/16.6 MB 3.2 MB/s eta 0:00:01\n",
      "   -------------------------------- ------- 13.6/16.6 MB 3.2 MB/s eta 0:00:01\n",
      "   --------------------------------- ------ 13.9/16.6 MB 3.2 MB/s eta 0:00:01\n",
      "   ---------------------------------- ----- 14.2/16.6 MB 3.1 MB/s eta 0:00:01\n",
      "   ----------------------------------- ---- 14.5/16.6 MB 3.1 MB/s eta 0:00:01\n",
      "   ----------------------------------- ---- 14.8/16.6 MB 3.1 MB/s eta 0:00:01\n",
      "   ------------------------------------ --- 15.2/16.6 MB 3.0 MB/s eta 0:00:01\n",
      "   ------------------------------------- -- 15.5/16.6 MB 3.0 MB/s eta 0:00:01\n",
      "   -------------------------------------- - 15.8/16.6 MB 3.0 MB/s eta 0:00:01\n",
      "   ---------------------------------------  16.3/16.6 MB 3.0 MB/s eta 0:00:01\n",
      "   ---------------------------------------  16.6/16.6 MB 3.0 MB/s eta 0:00:01\n",
      "   ---------------------------------------  16.6/16.6 MB 3.0 MB/s eta 0:00:01\n",
      "   ---------------------------------------  16.6/16.6 MB 3.0 MB/s eta 0:00:01\n",
      "   ---------------------------------------  16.6/16.6 MB 3.0 MB/s eta 0:00:01\n",
      "   ---------------------------------------- 16.6/16.6 MB 2.8 MB/s eta 0:00:00\n",
      "Downloading pytz-2024.1-py2.py3-none-any.whl (505 kB)\n",
      "   ---------------------------------------- 0.0/505.5 kB ? eta -:--:--\n",
      "   ------------------------------- ------- 409.6/505.5 kB 25.0 MB/s eta 0:00:01\n",
      "   --------------------------------------- 505.5/505.5 kB 10.5 MB/s eta 0:00:00\n",
      "Downloading tzdata-2024.1-py2.py3-none-any.whl (345 kB)\n",
      "   ---------------------------------------- 0.0/345.4 kB ? eta -:--:--\n",
      "   --------------------------------------  337.9/345.4 kB 10.6 MB/s eta 0:00:01\n",
      "   ---------------------------------------- 345.4/345.4 kB 7.1 MB/s eta 0:00:00\n",
      "Installing collected packages: pytz, tzdata, numpy, pandas\n",
      "Successfully installed numpy-2.0.1 pandas-2.2.2 pytz-2024.1 tzdata-2024.1\n",
      "Note: you may need to restart the kernel to use updated packages.\n"
     ]
    },
    {
     "name": "stderr",
     "output_type": "stream",
     "text": [
      "\n",
      "[notice] A new release of pip is available: 23.2.1 -> 24.2\n",
      "[notice] To update, run: python.exe -m pip install --upgrade pip\n"
     ]
    },
    {
     "name": "stdout",
     "output_type": "stream",
     "text": [
      "Requirement already satisfied: numpy in c:\\users\\aluno\\pycharmprojects\\pythonproject\\venv\\lib\\site-packages (2.0.1)\n",
      "Note: you may need to restart the kernel to use updated packages.\n"
     ]
    },
    {
     "name": "stderr",
     "output_type": "stream",
     "text": [
      "\n",
      "[notice] A new release of pip is available: 23.2.1 -> 24.2\n",
      "[notice] To update, run: python.exe -m pip install --upgrade pip\n"
     ]
    },
    {
     "name": "stdout",
     "output_type": "stream",
     "text": [
      "Collecting matplotlib\n",
      "  Obtaining dependency information for matplotlib from https://files.pythonhosted.org/packages/71/a8/9b18bd1fef16f71821c890b4db3697be5102f2b839765d9608479cd33874/matplotlib-3.9.2-cp39-cp39-win_amd64.whl.metadata\n",
      "  Downloading matplotlib-3.9.2-cp39-cp39-win_amd64.whl.metadata (11 kB)\n",
      "Collecting contourpy>=1.0.1 (from matplotlib)\n",
      "  Obtaining dependency information for contourpy>=1.0.1 from https://files.pythonhosted.org/packages/62/5c/08e3a7a35762c8decb6be01c7ec1f4b5f85ef2e2fbb44af87e9caf25a879/contourpy-1.2.1-cp39-cp39-win_amd64.whl.metadata\n",
      "  Downloading contourpy-1.2.1-cp39-cp39-win_amd64.whl.metadata (5.8 kB)\n",
      "Collecting cycler>=0.10 (from matplotlib)\n",
      "  Obtaining dependency information for cycler>=0.10 from https://files.pythonhosted.org/packages/e7/05/c19819d5e3d95294a6f5947fb9b9629efb316b96de511b418c53d245aae6/cycler-0.12.1-py3-none-any.whl.metadata\n",
      "  Downloading cycler-0.12.1-py3-none-any.whl.metadata (3.8 kB)\n",
      "Collecting fonttools>=4.22.0 (from matplotlib)\n",
      "  Obtaining dependency information for fonttools>=4.22.0 from https://files.pythonhosted.org/packages/f2/d5/f7d2122140848fb7a7bd1d59881b822dd514c19b7648984b7565d9f39d56/fonttools-4.53.1-cp39-cp39-win_amd64.whl.metadata\n",
      "  Downloading fonttools-4.53.1-cp39-cp39-win_amd64.whl.metadata (165 kB)\n",
      "     ---------------------------------------- 0.0/165.9 kB ? eta -:--:--\n",
      "     -------------------------------------- 165.9/165.9 kB 4.9 MB/s eta 0:00:00\n",
      "Collecting kiwisolver>=1.3.1 (from matplotlib)\n",
      "  Obtaining dependency information for kiwisolver>=1.3.1 from https://files.pythonhosted.org/packages/ca/c1/1f986c8119c0c57c2bd71d1941da23332c38ee2c90117e46dff4358b70f7/kiwisolver-1.4.5-cp39-cp39-win_amd64.whl.metadata\n",
      "  Downloading kiwisolver-1.4.5-cp39-cp39-win_amd64.whl.metadata (6.5 kB)\n",
      "Requirement already satisfied: numpy>=1.23 in c:\\users\\aluno\\pycharmprojects\\pythonproject\\venv\\lib\\site-packages (from matplotlib) (2.0.1)\n",
      "Requirement already satisfied: packaging>=20.0 in c:\\users\\aluno\\pycharmprojects\\pythonproject\\venv\\lib\\site-packages (from matplotlib) (24.1)\n",
      "Collecting pillow>=8 (from matplotlib)\n",
      "  Obtaining dependency information for pillow>=8 from https://files.pythonhosted.org/packages/37/f8/bef952bdb32aa53741f58bf21798642209e994edc3f6598f337f23d5400a/pillow-10.4.0-cp39-cp39-win_amd64.whl.metadata\n",
      "  Downloading pillow-10.4.0-cp39-cp39-win_amd64.whl.metadata (9.3 kB)\n",
      "Collecting pyparsing>=2.3.1 (from matplotlib)\n",
      "  Obtaining dependency information for pyparsing>=2.3.1 from https://files.pythonhosted.org/packages/9d/ea/6d76df31432a0e6fdf81681a895f009a4bb47b3c39036db3e1b528191d52/pyparsing-3.1.2-py3-none-any.whl.metadata\n",
      "  Downloading pyparsing-3.1.2-py3-none-any.whl.metadata (5.1 kB)\n",
      "Requirement already satisfied: python-dateutil>=2.7 in c:\\users\\aluno\\pycharmprojects\\pythonproject\\venv\\lib\\site-packages (from matplotlib) (2.9.0.post0)\n",
      "Collecting importlib-resources>=3.2.0 (from matplotlib)\n",
      "  Obtaining dependency information for importlib-resources>=3.2.0 from https://files.pythonhosted.org/packages/13/da/ec59848cc9d785fc0f55823efd84d213418e14e2c97ae87c15b5ac46a6ab/importlib_resources-6.4.2-py3-none-any.whl.metadata\n",
      "  Downloading importlib_resources-6.4.2-py3-none-any.whl.metadata (3.9 kB)\n",
      "Requirement already satisfied: zipp>=3.1.0 in c:\\users\\aluno\\pycharmprojects\\pythonproject\\venv\\lib\\site-packages (from importlib-resources>=3.2.0->matplotlib) (3.20.0)\n",
      "Requirement already satisfied: six>=1.5 in c:\\users\\aluno\\pycharmprojects\\pythonproject\\venv\\lib\\site-packages (from python-dateutil>=2.7->matplotlib) (1.16.0)\n",
      "Downloading matplotlib-3.9.2-cp39-cp39-win_amd64.whl (7.8 MB)\n",
      "   ---------------------------------------- 0.0/7.8 MB ? eta -:--:--\n",
      "   -------- ------------------------------- 1.6/7.8 MB 33.1 MB/s eta 0:00:01\n",
      "   --------------------- ------------------ 4.1/7.8 MB 43.6 MB/s eta 0:00:01\n",
      "   ----------------------------- ---------- 5.8/7.8 MB 41.3 MB/s eta 0:00:01\n",
      "   ---------------------------------------  7.8/7.8 MB 45.4 MB/s eta 0:00:01\n",
      "   ---------------------------------------  7.8/7.8 MB 45.4 MB/s eta 0:00:01\n",
      "   ---------------------------------------- 7.8/7.8 MB 33.3 MB/s eta 0:00:00\n",
      "Downloading contourpy-1.2.1-cp39-cp39-win_amd64.whl (182 kB)\n",
      "   ---------------------------------------- 0.0/182.8 kB ? eta -:--:--\n",
      "   --------------------------------------- 182.8/182.8 kB 11.5 MB/s eta 0:00:00\n",
      "Downloading cycler-0.12.1-py3-none-any.whl (8.3 kB)\n",
      "Downloading fonttools-4.53.1-cp39-cp39-win_amd64.whl (2.2 MB)\n",
      "   ---------------------------------------- 0.0/2.2 MB ? eta -:--:--\n",
      "   --------------------------- ------------ 1.5/2.2 MB 32.5 MB/s eta 0:00:01\n",
      "   ---------------------------------------- 2.2/2.2 MB 28.1 MB/s eta 0:00:00\n",
      "Downloading importlib_resources-6.4.2-py3-none-any.whl (34 kB)\n",
      "Downloading kiwisolver-1.4.5-cp39-cp39-win_amd64.whl (56 kB)\n",
      "   ---------------------------------------- 0.0/56.2 kB ? eta -:--:--\n",
      "   ---------------------------------------- 56.2/56.2 kB 3.1 MB/s eta 0:00:00\n",
      "Downloading pillow-10.4.0-cp39-cp39-win_amd64.whl (2.6 MB)\n",
      "   ---------------------------------------- 0.0/2.6 MB ? eta -:--:--\n",
      "   ---------------------------- ----------- 1.8/2.6 MB 39.2 MB/s eta 0:00:01\n",
      "   ---------------------------------------  2.5/2.6 MB 41.0 MB/s eta 0:00:01\n",
      "   ---------------------------------------  2.5/2.6 MB 41.0 MB/s eta 0:00:01\n",
      "   ---------------------------------------  2.5/2.6 MB 41.0 MB/s eta 0:00:01\n",
      "   ---------------------------------------  2.5/2.6 MB 41.0 MB/s eta 0:00:01\n",
      "   ---------------------------------------  2.5/2.6 MB 41.0 MB/s eta 0:00:01\n",
      "   ---------------------------------------  2.5/2.6 MB 41.0 MB/s eta 0:00:01\n",
      "   ---------------------------------------  2.5/2.6 MB 41.0 MB/s eta 0:00:01\n",
      "   ---------------------------------------- 2.6/2.6 MB 6.8 MB/s eta 0:00:00\n",
      "Downloading pyparsing-3.1.2-py3-none-any.whl (103 kB)\n",
      "   ---------------------------------------- 0.0/103.2 kB ? eta -:--:--\n",
      "   ---------------------------------------- 103.2/103.2 kB 6.2 MB/s eta 0:00:00\n",
      "Installing collected packages: pyparsing, pillow, kiwisolver, importlib-resources, fonttools, cycler, contourpy, matplotlib\n",
      "Successfully installed contourpy-1.2.1 cycler-0.12.1 fonttools-4.53.1 importlib-resources-6.4.2 kiwisolver-1.4.5 matplotlib-3.9.2 pillow-10.4.0 pyparsing-3.1.2\n",
      "Note: you may need to restart the kernel to use updated packages.\n"
     ]
    },
    {
     "name": "stderr",
     "output_type": "stream",
     "text": [
      "\n",
      "[notice] A new release of pip is available: 23.2.1 -> 24.2\n",
      "[notice] To update, run: python.exe -m pip install --upgrade pip\n"
     ]
    },
    {
     "name": "stdout",
     "output_type": "stream",
     "text": [
      "Collecting seaborn\n",
      "  Obtaining dependency information for seaborn from https://files.pythonhosted.org/packages/83/11/00d3c3dfc25ad54e731d91449895a79e4bf2384dc3ac01809010ba88f6d5/seaborn-0.13.2-py3-none-any.whl.metadata\n",
      "  Downloading seaborn-0.13.2-py3-none-any.whl.metadata (5.4 kB)\n",
      "Requirement already satisfied: numpy!=1.24.0,>=1.20 in c:\\users\\aluno\\pycharmprojects\\pythonproject\\venv\\lib\\site-packages (from seaborn) (2.0.1)\n",
      "Requirement already satisfied: pandas>=1.2 in c:\\users\\aluno\\pycharmprojects\\pythonproject\\venv\\lib\\site-packages (from seaborn) (2.2.2)\n",
      "Requirement already satisfied: matplotlib!=3.6.1,>=3.4 in c:\\users\\aluno\\pycharmprojects\\pythonproject\\venv\\lib\\site-packages (from seaborn) (3.9.2)\n",
      "Requirement already satisfied: contourpy>=1.0.1 in c:\\users\\aluno\\pycharmprojects\\pythonproject\\venv\\lib\\site-packages (from matplotlib!=3.6.1,>=3.4->seaborn) (1.2.1)\n",
      "Requirement already satisfied: cycler>=0.10 in c:\\users\\aluno\\pycharmprojects\\pythonproject\\venv\\lib\\site-packages (from matplotlib!=3.6.1,>=3.4->seaborn) (0.12.1)\n",
      "Requirement already satisfied: fonttools>=4.22.0 in c:\\users\\aluno\\pycharmprojects\\pythonproject\\venv\\lib\\site-packages (from matplotlib!=3.6.1,>=3.4->seaborn) (4.53.1)\n",
      "Requirement already satisfied: kiwisolver>=1.3.1 in c:\\users\\aluno\\pycharmprojects\\pythonproject\\venv\\lib\\site-packages (from matplotlib!=3.6.1,>=3.4->seaborn) (1.4.5)\n",
      "Requirement already satisfied: packaging>=20.0 in c:\\users\\aluno\\pycharmprojects\\pythonproject\\venv\\lib\\site-packages (from matplotlib!=3.6.1,>=3.4->seaborn) (24.1)\n",
      "Requirement already satisfied: pillow>=8 in c:\\users\\aluno\\pycharmprojects\\pythonproject\\venv\\lib\\site-packages (from matplotlib!=3.6.1,>=3.4->seaborn) (10.4.0)\n",
      "Requirement already satisfied: pyparsing>=2.3.1 in c:\\users\\aluno\\pycharmprojects\\pythonproject\\venv\\lib\\site-packages (from matplotlib!=3.6.1,>=3.4->seaborn) (3.1.2)\n",
      "Requirement already satisfied: python-dateutil>=2.7 in c:\\users\\aluno\\pycharmprojects\\pythonproject\\venv\\lib\\site-packages (from matplotlib!=3.6.1,>=3.4->seaborn) (2.9.0.post0)\n",
      "Requirement already satisfied: importlib-resources>=3.2.0 in c:\\users\\aluno\\pycharmprojects\\pythonproject\\venv\\lib\\site-packages (from matplotlib!=3.6.1,>=3.4->seaborn) (6.4.2)\n",
      "Requirement already satisfied: pytz>=2020.1 in c:\\users\\aluno\\pycharmprojects\\pythonproject\\venv\\lib\\site-packages (from pandas>=1.2->seaborn) (2024.1)\n",
      "Requirement already satisfied: tzdata>=2022.7 in c:\\users\\aluno\\pycharmprojects\\pythonproject\\venv\\lib\\site-packages (from pandas>=1.2->seaborn) (2024.1)\n",
      "Requirement already satisfied: zipp>=3.1.0 in c:\\users\\aluno\\pycharmprojects\\pythonproject\\venv\\lib\\site-packages (from importlib-resources>=3.2.0->matplotlib!=3.6.1,>=3.4->seaborn) (3.20.0)\n",
      "Requirement already satisfied: six>=1.5 in c:\\users\\aluno\\pycharmprojects\\pythonproject\\venv\\lib\\site-packages (from python-dateutil>=2.7->matplotlib!=3.6.1,>=3.4->seaborn) (1.16.0)\n",
      "Downloading seaborn-0.13.2-py3-none-any.whl (294 kB)\n",
      "   ---------------------------------------- 0.0/294.9 kB ? eta -:--:--\n",
      "   ------------------------------------ --- 266.2/294.9 kB 5.4 MB/s eta 0:00:01\n",
      "   ---------------------------------------- 294.9/294.9 kB 4.6 MB/s eta 0:00:00\n",
      "Installing collected packages: seaborn\n",
      "Successfully installed seaborn-0.13.2\n",
      "Note: you may need to restart the kernel to use updated packages.\n"
     ]
    },
    {
     "name": "stderr",
     "output_type": "stream",
     "text": [
      "\n",
      "[notice] A new release of pip is available: 23.2.1 -> 24.2\n",
      "[notice] To update, run: python.exe -m pip install --upgrade pip\n"
     ]
    },
    {
     "name": "stdout",
     "output_type": "stream",
     "text": [
      "Collecting scikit-learn\n",
      "  Obtaining dependency information for scikit-learn from https://files.pythonhosted.org/packages/a8/ed/941b210029c1051233b082a19c36b930f56dda34a8a5227dbbd1bc08f7eb/scikit_learn-1.5.1-cp39-cp39-win_amd64.whl.metadata\n",
      "  Downloading scikit_learn-1.5.1-cp39-cp39-win_amd64.whl.metadata (12 kB)\n",
      "Requirement already satisfied: numpy>=1.19.5 in c:\\users\\aluno\\pycharmprojects\\pythonproject\\venv\\lib\\site-packages (from scikit-learn) (2.0.1)\n",
      "Collecting scipy>=1.6.0 (from scikit-learn)\n",
      "  Obtaining dependency information for scipy>=1.6.0 from https://files.pythonhosted.org/packages/3e/77/dab54fe647a08ee4253963bcd8f9cf17509c8ca64d6335141422fe2e2114/scipy-1.13.1-cp39-cp39-win_amd64.whl.metadata\n",
      "  Downloading scipy-1.13.1-cp39-cp39-win_amd64.whl.metadata (60 kB)\n",
      "     ---------------------------------------- 0.0/60.6 kB ? eta -:--:--\n",
      "     ---------------------------------------- 60.6/60.6 kB 1.6 MB/s eta 0:00:00\n",
      "Collecting joblib>=1.2.0 (from scikit-learn)\n",
      "  Obtaining dependency information for joblib>=1.2.0 from https://files.pythonhosted.org/packages/91/29/df4b9b42f2be0b623cbd5e2140cafcaa2bef0759a00b7b70104dcfe2fb51/joblib-1.4.2-py3-none-any.whl.metadata\n",
      "  Downloading joblib-1.4.2-py3-none-any.whl.metadata (5.4 kB)\n",
      "Collecting threadpoolctl>=3.1.0 (from scikit-learn)\n",
      "  Obtaining dependency information for threadpoolctl>=3.1.0 from https://files.pythonhosted.org/packages/4b/2c/ffbf7a134b9ab11a67b0cf0726453cedd9c5043a4fe7a35d1cefa9a1bcfb/threadpoolctl-3.5.0-py3-none-any.whl.metadata\n",
      "  Downloading threadpoolctl-3.5.0-py3-none-any.whl.metadata (13 kB)\n",
      "Downloading scikit_learn-1.5.1-cp39-cp39-win_amd64.whl (11.0 MB)\n",
      "   ---------------------------------------- 0.0/11.0 MB ? eta -:--:--\n",
      "   - -------------------------------------- 0.3/11.0 MB 9.6 MB/s eta 0:00:02\n",
      "   -- ------------------------------------- 0.7/11.0 MB 8.8 MB/s eta 0:00:02\n",
      "   ---- ----------------------------------- 1.2/11.0 MB 9.6 MB/s eta 0:00:02\n",
      "   ------ --------------------------------- 1.8/11.0 MB 10.7 MB/s eta 0:00:01\n",
      "   --------- ------------------------------ 2.6/11.0 MB 11.9 MB/s eta 0:00:01\n",
      "   ------------ --------------------------- 3.5/11.0 MB 13.1 MB/s eta 0:00:01\n",
      "   ---------------- ----------------------- 4.7/11.0 MB 14.9 MB/s eta 0:00:01\n",
      "   --------------------- ------------------ 6.0/11.0 MB 16.7 MB/s eta 0:00:01\n",
      "   --------------------------- ------------ 7.6/11.0 MB 18.8 MB/s eta 0:00:01\n",
      "   ---------------------------------- ----- 9.6/11.0 MB 21.2 MB/s eta 0:00:01\n",
      "   ---------------------------------------  11.0/11.0 MB 26.2 MB/s eta 0:00:01\n",
      "   ---------------------------------------  11.0/11.0 MB 26.2 MB/s eta 0:00:01\n",
      "   ---------------------------------------  11.0/11.0 MB 26.2 MB/s eta 0:00:01\n",
      "   ---------------------------------------  11.0/11.0 MB 26.2 MB/s eta 0:00:01\n",
      "   ---------------------------------------  11.0/11.0 MB 26.2 MB/s eta 0:00:01\n",
      "   ---------------------------------------  11.0/11.0 MB 26.2 MB/s eta 0:00:01\n",
      "   ---------------------------------------- 11.0/11.0 MB 14.9 MB/s eta 0:00:00\n",
      "Downloading joblib-1.4.2-py3-none-any.whl (301 kB)\n",
      "   ---------------------------------------- 0.0/301.8 kB ? eta -:--:--\n",
      "   --------------------------------------- 301.8/301.8 kB 18.2 MB/s eta 0:00:00\n",
      "Downloading scipy-1.13.1-cp39-cp39-win_amd64.whl (46.2 MB)\n",
      "   ---------------------------------------- 0.0/46.2 MB ? eta -:--:--\n",
      "   -- ------------------------------------- 2.8/46.2 MB 59.3 MB/s eta 0:00:01\n",
      "   ---- ----------------------------------- 4.8/46.2 MB 51.4 MB/s eta 0:00:01\n",
      "   ------ --------------------------------- 7.5/46.2 MB 53.7 MB/s eta 0:00:01\n",
      "   ------- -------------------------------- 8.8/46.2 MB 46.9 MB/s eta 0:00:01\n",
      "   --------- ------------------------------ 10.9/46.2 MB 46.7 MB/s eta 0:00:01\n",
      "   ----------- ---------------------------- 13.2/46.2 MB 46.7 MB/s eta 0:00:01\n",
      "   ------------- -------------------------- 15.3/46.2 MB 46.7 MB/s eta 0:00:01\n",
      "   --------------- ------------------------ 17.7/46.2 MB 43.5 MB/s eta 0:00:01\n",
      "   ----------------- ---------------------- 20.0/46.2 MB 50.1 MB/s eta 0:00:01\n",
      "   ------------------- -------------------- 22.4/46.2 MB 50.4 MB/s eta 0:00:01\n",
      "   --------------------- ------------------ 24.7/46.2 MB 50.4 MB/s eta 0:00:01\n",
      "   ----------------------- ---------------- 27.0/46.2 MB 50.4 MB/s eta 0:00:01\n",
      "   ------------------------- -------------- 29.3/46.2 MB 50.4 MB/s eta 0:00:01\n",
      "   --------------------------- ------------ 31.7/46.2 MB 50.4 MB/s eta 0:00:01\n",
      "   ----------------------------- ---------- 33.9/46.2 MB 50.4 MB/s eta 0:00:01\n",
      "   ------------------------------- -------- 36.4/46.2 MB 50.4 MB/s eta 0:00:01\n",
      "   --------------------------------- ------ 38.6/46.2 MB 50.1 MB/s eta 0:00:01\n",
      "   ----------------------------------- ---- 40.6/46.2 MB 50.4 MB/s eta 0:00:01\n",
      "   ------------------------------------ --- 42.3/46.2 MB 46.9 MB/s eta 0:00:01\n",
      "   -------------------------------------- - 44.1/46.2 MB 43.7 MB/s eta 0:00:01\n",
      "   ---------------------------------------  45.8/46.2 MB 40.9 MB/s eta 0:00:01\n",
      "   ---------------------------------------  46.2/46.2 MB 40.9 MB/s eta 0:00:01\n",
      "   ---------------------------------------  46.2/46.2 MB 40.9 MB/s eta 0:00:01\n",
      "   ---------------------------------------  46.2/46.2 MB 40.9 MB/s eta 0:00:01\n",
      "   ---------------------------------------  46.2/46.2 MB 40.9 MB/s eta 0:00:01\n",
      "   ---------------------------------------  46.2/46.2 MB 40.9 MB/s eta 0:00:01\n",
      "   ---------------------------------------  46.2/46.2 MB 40.9 MB/s eta 0:00:01\n",
      "   ---------------------------------------  46.2/46.2 MB 40.9 MB/s eta 0:00:01\n",
      "   ---------------------------------------  46.2/46.2 MB 40.9 MB/s eta 0:00:01\n",
      "   ---------------------------------------  46.2/46.2 MB 40.9 MB/s eta 0:00:01\n",
      "   ---------------------------------------  46.2/46.2 MB 40.9 MB/s eta 0:00:01\n",
      "   ---------------------------------------  46.2/46.2 MB 40.9 MB/s eta 0:00:01\n",
      "   ---------------------------------------  46.2/46.2 MB 40.9 MB/s eta 0:00:01\n",
      "   ---------------------------------------  46.2/46.2 MB 40.9 MB/s eta 0:00:01\n",
      "   ---------------------------------------  46.2/46.2 MB 40.9 MB/s eta 0:00:01\n",
      "   ---------------------------------------  46.2/46.2 MB 40.9 MB/s eta 0:00:01\n",
      "   ---------------------------------------  46.2/46.2 MB 40.9 MB/s eta 0:00:01\n",
      "   ---------------------------------------- 46.2/46.2 MB 9.8 MB/s eta 0:00:00\n",
      "Downloading threadpoolctl-3.5.0-py3-none-any.whl (18 kB)\n",
      "Installing collected packages: threadpoolctl, scipy, joblib, scikit-learn\n",
      "Successfully installed joblib-1.4.2 scikit-learn-1.5.1 scipy-1.13.1 threadpoolctl-3.5.0\n",
      "Note: you may need to restart the kernel to use updated packages.\n"
     ]
    },
    {
     "name": "stderr",
     "output_type": "stream",
     "text": [
      "\n",
      "[notice] A new release of pip is available: 23.2.1 -> 24.2\n",
      "[notice] To update, run: python.exe -m pip install --upgrade pip\n"
     ]
    }
   ],
   "source": [
    "%pip install pandas\n",
    "%pip install numpy\n",
    "%pip install matplotlib\n",
    "%pip install seaborn\n",
    "%pip install scikit-learn\n",
    "\n",
    "\n",
    "### Análise de dados\n",
    "import pandas as pd\n",
    "import numpy as np\n",
    "import matplotlib.pyplot as plt\n",
    "import seaborn as sns\n",
    "\n",
    "### Criação do modelo\n",
    "from sklearn.tree import DecisionTreeClassifier\n",
    "from sklearn.ensemble import RandomForestClassifier\n",
    "from sklearn.neighbors import KNeighborsClassifier\n",
    "from sklearn.model_selection import train_test_split\n",
    "\n",
    "### Avaliação de métricas\n",
    "from sklearn.metrics import accuracy_score"
   ]
  },
  {
   "cell_type": "markdown",
   "metadata": {
    "id": "040WafwR1biI"
   },
   "source": [
    "#### Leitura de dados"
   ]
  },
  {
   "cell_type": "code",
   "execution_count": 2,
   "metadata": {
    "id": "J1m8YDfg1biK",
    "outputId": "b53887c1-fb51-416d-d8e9-82d71ede86a1"
   },
   "outputs": [
    {
     "data": {
      "text/html": [
       "<div>\n",
       "<style scoped>\n",
       "    .dataframe tbody tr th:only-of-type {\n",
       "        vertical-align: middle;\n",
       "    }\n",
       "\n",
       "    .dataframe tbody tr th {\n",
       "        vertical-align: top;\n",
       "    }\n",
       "\n",
       "    .dataframe thead th {\n",
       "        text-align: right;\n",
       "    }\n",
       "</style>\n",
       "<table border=\"1\" class=\"dataframe\">\n",
       "  <thead>\n",
       "    <tr style=\"text-align: right;\">\n",
       "      <th></th>\n",
       "      <th>sepal length (cm)</th>\n",
       "      <th>sepal width (cm)</th>\n",
       "      <th>petal length (cm)</th>\n",
       "      <th>petal width (cm)</th>\n",
       "      <th>target</th>\n",
       "    </tr>\n",
       "  </thead>\n",
       "  <tbody>\n",
       "    <tr>\n",
       "      <th>0</th>\n",
       "      <td>5.1</td>\n",
       "      <td>3.5</td>\n",
       "      <td>1.4</td>\n",
       "      <td>0.2</td>\n",
       "      <td>0</td>\n",
       "    </tr>\n",
       "    <tr>\n",
       "      <th>1</th>\n",
       "      <td>4.9</td>\n",
       "      <td>3.0</td>\n",
       "      <td>1.4</td>\n",
       "      <td>0.2</td>\n",
       "      <td>0</td>\n",
       "    </tr>\n",
       "    <tr>\n",
       "      <th>2</th>\n",
       "      <td>4.7</td>\n",
       "      <td>3.2</td>\n",
       "      <td>1.3</td>\n",
       "      <td>0.2</td>\n",
       "      <td>0</td>\n",
       "    </tr>\n",
       "    <tr>\n",
       "      <th>3</th>\n",
       "      <td>4.6</td>\n",
       "      <td>3.1</td>\n",
       "      <td>1.5</td>\n",
       "      <td>0.2</td>\n",
       "      <td>0</td>\n",
       "    </tr>\n",
       "    <tr>\n",
       "      <th>4</th>\n",
       "      <td>5.0</td>\n",
       "      <td>3.6</td>\n",
       "      <td>1.4</td>\n",
       "      <td>0.2</td>\n",
       "      <td>0</td>\n",
       "    </tr>\n",
       "  </tbody>\n",
       "</table>\n",
       "</div>"
      ],
      "text/plain": [
       "   sepal length (cm)  sepal width (cm)  petal length (cm)  petal width (cm)  \\\n",
       "0                5.1               3.5                1.4               0.2   \n",
       "1                4.9               3.0                1.4               0.2   \n",
       "2                4.7               3.2                1.3               0.2   \n",
       "3                4.6               3.1                1.5               0.2   \n",
       "4                5.0               3.6                1.4               0.2   \n",
       "\n",
       "   target  \n",
       "0       0  \n",
       "1       0  \n",
       "2       0  \n",
       "3       0  \n",
       "4       0  "
      ]
     },
     "execution_count": 2,
     "metadata": {},
     "output_type": "execute_result"
    }
   ],
   "source": [
    "data = pd.read_csv(\"data/iris.csv\")\n",
    "data.head() # imprimir 5 primeiros registros"
   ]
  },
  {
   "cell_type": "markdown",
   "metadata": {
    "id": "v2q2GZWx1biL"
   },
   "source": [
    "O conjunto de dados Iris é um conjunto de dados clássico frequentemente usado em aprendizado de máquina e estatística para fins de demonstração e prática. Ele contém informações sobre amostras de três espécies diferentes de íris: Iris setosa, Iris virginica e Iris versicolor. Cada amostra possui quatro características medidas em centímetros Sépala comprimento/tamanho e Comprimento/tamanho de pétala.\n",
    "\n",
    "![Imagem de iris](imagens/Flores_de_Íris.png)\n"
   ]
  },
  {
   "cell_type": "markdown",
   "metadata": {
    "id": "tegyKIpi1biN"
   },
   "source": [
    "#### Análise exploratória"
   ]
  },
  {
   "cell_type": "code",
   "execution_count": 3,
   "metadata": {
    "id": "aJuUoCWa1biN",
    "outputId": "74803a08-0ecb-45bf-848a-1b70c08aa706"
   },
   "outputs": [
    {
     "data": {
      "image/png": "[encoded data removed]",
      "text/plain": [
       "<Figure size 1200x400 with 2 Axes>"
      ]
     },
     "metadata": {},
     "output_type": "display_data"
    }
   ],
   "source": [
    "#Configura o Tamanho da Imagem 12 x 4 Polegadas\n",
    "plt.figure(figsize=(12,4))\n",
    "\n",
    "#Cria um sub plot (serve para colocar um gráfico do lado do outro, neste exemplo)\n",
    "plt.subplot(1,2,1)\n",
    "\n",
    "#Usa a biblioteca Seaborn para ler o Dataset e plotar em um gráfico de dispersão\n",
    "sns.scatterplot(data=data, x = \"petal length (cm)\", y = \"petal width (cm)\", hue = \"target\")\n",
    "plt.title(\"Petal Width vs Length\")\n",
    "plt.xlabel(\"Width\")\n",
    "plt.ylabel(\"Length\")\n",
    "\n",
    "#O mesmo procedimento para o segundo gráfico\n",
    "plt.subplot(1,2,2)\n",
    "sns.scatterplot(data=data, x = \"sepal length (cm)\", y = \"sepal width (cm)\", hue = \"target\")\n",
    "plt.title(\"Sepal Width vs Length\")\n",
    "plt.xlabel(\"Width\")\n",
    "plt.ylabel(\"Length\")\n",
    "\n",
    "plt.show()"
   ]
  },
  {
   "cell_type": "markdown",
   "metadata": {
    "id": "kcJOrydV1biQ"
   },
   "source": [
    "#### Definição do modelo e treino"
   ]
  },
  {
   "cell_type": "code",
   "execution_count": 4,
   "metadata": {
    "id": "MRbD6c4G1biS"
   },
   "outputs": [],
   "source": [
    "# instanciando modelos\n",
    "tree = DecisionTreeClassifier()\n",
    "rf = RandomForestClassifier()\n",
    "knn = KNeighborsClassifier()"
   ]
  },
  {
   "cell_type": "code",
   "execution_count": 5,
   "metadata": {
    "id": "6QLLcbkM1biT",
    "outputId": "ee205bb5-5c1b-4618-d80f-e552f924a3db"
   },
   "outputs": [
    {
     "name": "stdout",
     "output_type": "stream",
     "text": [
      "Tamanho X de treino: (120, 4)\n",
      "Tamanho X de teste: (30, 4)\n",
      "Tamanho y de treino: (120,)\n",
      "Tamanho y de teste: (30,)\n"
     ]
    }
   ],
   "source": [
    "# Separando dados\n",
    "## Variáveis preditoras\n",
    "X = data.loc[:,[\"sepal length (cm)\", \"sepal width (cm)\", \"petal length (cm)\", \"petal width (cm)\"]]\n",
    "X = np.array(X)\n",
    "\n",
    "## Variável alvo\n",
    "y = data[\"target\"]\n",
    "y = np.array(y)\n",
    "\n",
    "## Separando treino e teste\n",
    "X_train, X_test, y_train, y_test = train_test_split(X, y, test_size=0.2, random_state = 0)\n",
    "print(f\"Tamanho X de treino: {X_train.shape}\")\n",
    "print(f\"Tamanho X de teste: {X_test.shape}\")\n",
    "print(f\"Tamanho y de treino: {y_train.shape}\")\n",
    "print(f\"Tamanho y de teste: {y_test.shape}\")"
   ]
  },
  {
   "cell_type": "code",
   "execution_count": 6,
   "metadata": {
    "id": "2QOdY1Q91biU",
    "outputId": "10807c8a-5315-4eae-df6e-8e7015e78e30"
   },
   "outputs": [
    {
     "name": "stdout",
     "output_type": "stream",
     "text": [
      "     sepal length (cm)  sepal width (cm)  petal length (cm)  petal width (cm)\n",
      "0                  5.1               3.5                1.4               0.2\n",
      "1                  4.9               3.0                1.4               0.2\n",
      "2                  4.7               3.2                1.3               0.2\n",
      "3                  4.6               3.1                1.5               0.2\n",
      "4                  5.0               3.6                1.4               0.2\n",
      "..                 ...               ...                ...               ...\n",
      "145                6.7               3.0                5.2               2.3\n",
      "146                6.3               2.5                5.0               1.9\n",
      "147                6.5               3.0                5.2               2.0\n",
      "148                6.2               3.4                5.4               2.3\n",
      "149                5.9               3.0                5.1               1.8\n",
      "\n",
      "[150 rows x 4 columns]\n"
     ]
    }
   ],
   "source": [
    "print(data.loc[:,[\"sepal length (cm)\", \"sepal width (cm)\", \"petal length (cm)\", \"petal width (cm)\"]])"
   ]
  },
  {
   "cell_type": "code",
   "execution_count": 7,
   "metadata": {
    "id": "62mkUeBv1biV",
    "outputId": "caebafd3-6e4d-4846-c170-dafc18a705e4"
   },
   "outputs": [
    {
     "data": {
      "text/html": [
       "<style>#sk-container-id-1 {\n",
       "  /* Definition of color scheme common for light and dark mode */\n",
       "  --sklearn-color-text: black;\n",
       "  --sklearn-color-line: gray;\n",
       "  /* Definition of color scheme for unfitted estimators */\n",
       "  --sklearn-color-unfitted-level-0: #fff5e6;\n",
       "  --sklearn-color-unfitted-level-1: #f6e4d2;\n",
       "  --sklearn-color-unfitted-level-2: #ffe0b3;\n",
       "  --sklearn-color-unfitted-level-3: chocolate;\n",
       "  /* Definition of color scheme for fitted estimators */\n",
       "  --sklearn-color-fitted-level-0: #f0f8ff;\n",
       "  --sklearn-color-fitted-level-1: #d4ebff;\n",
       "  --sklearn-color-fitted-level-2: #b3dbfd;\n",
       "  --sklearn-color-fitted-level-3: cornflowerblue;\n",
       "\n",
       "  /* Specific color for light theme */\n",
       "  --sklearn-color-text-on-default-background: var(--sg-text-color, var(--theme-code-foreground, var(--jp-content-font-color1, black)));\n",
       "  --sklearn-color-background: var(--sg-background-color, var(--theme-background, var(--jp-layout-color0, white)));\n",
       "  --sklearn-color-border-box: var(--sg-text-color, var(--theme-code-foreground, var(--jp-content-font-color1, black)));\n",
       "  --sklearn-color-icon: #696969;\n",
       "\n",
       "  @media (prefers-color-scheme: dark) {\n",
       "    /* Redefinition of color scheme for dark theme */\n",
       "    --sklearn-color-text-on-default-background: var(--sg-text-color, var(--theme-code-foreground, var(--jp-content-font-color1, white)));\n",
       "    --sklearn-color-background: var(--sg-background-color, var(--theme-background, var(--jp-layout-color0, #111)));\n",
       "    --sklearn-color-border-box: var(--sg-text-color, var(--theme-code-foreground, var(--jp-content-font-color1, white)));\n",
       "    --sklearn-color-icon: #878787;\n",
       "  }\n",
       "}\n",
       "\n",
       "#sk-container-id-1 {\n",
       "  color: var(--sklearn-color-text);\n",
       "}\n",
       "\n",
       "#sk-container-id-1 pre {\n",
       "  padding: 0;\n",
       "}\n",
       "\n",
       "#sk-container-id-1 input.sk-hidden--visually {\n",
       "  border: 0;\n",
       "  clip: rect(1px 1px 1px 1px);\n",
       "  clip: rect(1px, 1px, 1px, 1px);\n",
       "  height: 1px;\n",
       "  margin: -1px;\n",
       "  overflow: hidden;\n",
       "  padding: 0;\n",
       "  position: absolute;\n",
       "  width: 1px;\n",
       "}\n",
       "\n",
       "#sk-container-id-1 div.sk-dashed-wrapped {\n",
       "  border: 1px dashed var(--sklearn-color-line);\n",
       "  margin: 0 0.4em 0.5em 0.4em;\n",
       "  box-sizing: border-box;\n",
       "  padding-bottom: 0.4em;\n",
       "  background-color: var(--sklearn-color-background);\n",
       "}\n",
       "\n",
       "#sk-container-id-1 div.sk-container {\n",
       "  /* jupyter's `normalize.less` sets `[hidden] { display: none; }`\n",
       "     but bootstrap.min.css set `[hidden] { display: none !important; }`\n",
       "     so we also need the `!important` here to be able to override the\n",
       "     default hidden behavior on the sphinx rendered scikit-learn.org.\n",
       "     See: https://github.com/scikit-learn/scikit-learn/issues/21755 */\n",
       "  display: inline-block !important;\n",
       "  position: relative;\n",
       "}\n",
       "\n",
       "#sk-container-id-1 div.sk-text-repr-fallback {\n",
       "  display: none;\n",
       "}\n",
       "\n",
       "div.sk-parallel-item,\n",
       "div.sk-serial,\n",
       "div.sk-item {\n",
       "  /* draw centered vertical line to link estimators */\n",
       "  background-image: linear-gradient(var(--sklearn-color-text-on-default-background), var(--sklearn-color-text-on-default-background));\n",
       "  background-size: 2px 100%;\n",
       "  background-repeat: no-repeat;\n",
       "  background-position: center center;\n",
       "}\n",
       "\n",
       "/* Parallel-specific style estimator block */\n",
       "\n",
       "#sk-container-id-1 div.sk-parallel-item::after {\n",
       "  content: \"\";\n",
       "  width: 100%;\n",
       "  border-bottom: 2px solid var(--sklearn-color-text-on-default-background);\n",
       "  flex-grow: 1;\n",
       "}\n",
       "\n",
       "#sk-container-id-1 div.sk-parallel {\n",
       "  display: flex;\n",
       "  align-items: stretch;\n",
       "  justify-content: center;\n",
       "  background-color: var(--sklearn-color-background);\n",
       "  position: relative;\n",
       "}\n",
       "\n",
       "#sk-container-id-1 div.sk-parallel-item {\n",
       "  display: flex;\n",
       "  flex-direction: column;\n",
       "}\n",
       "\n",
       "#sk-container-id-1 div.sk-parallel-item:first-child::after {\n",
       "  align-self: flex-end;\n",
       "  width: 50%;\n",
       "}\n",
       "\n",
       "#sk-container-id-1 div.sk-parallel-item:last-child::after {\n",
       "  align-self: flex-start;\n",
       "  width: 50%;\n",
       "}\n",
       "\n",
       "#sk-container-id-1 div.sk-parallel-item:only-child::after {\n",
       "  width: 0;\n",
       "}\n",
       "\n",
       "/* Serial-specific style estimator block */\n",
       "\n",
       "#sk-container-id-1 div.sk-serial {\n",
       "  display: flex;\n",
       "  flex-direction: column;\n",
       "  align-items: center;\n",
       "  background-color: var(--sklearn-color-background);\n",
       "  padding-right: 1em;\n",
       "  padding-left: 1em;\n",
       "}\n",
       "\n",
       "\n",
       "/* Toggleable style: style used for estimator/Pipeline/ColumnTransformer box that is\n",
       "clickable and can be expanded/collapsed.\n",
       "- Pipeline and ColumnTransformer use this feature and define the default style\n",
       "- Estimators will overwrite some part of the style using the `sk-estimator` class\n",
       "*/\n",
       "\n",
       "/* Pipeline and ColumnTransformer style (default) */\n",
       "\n",
       "#sk-container-id-1 div.sk-toggleable {\n",
       "  /* Default theme specific background. It is overwritten whether we have a\n",
       "  specific estimator or a Pipeline/ColumnTransformer */\n",
       "  background-color: var(--sklearn-color-background);\n",
       "}\n",
       "\n",
       "/* Toggleable label */\n",
       "#sk-container-id-1 label.sk-toggleable__label {\n",
       "  cursor: pointer;\n",
       "  display: block;\n",
       "  width: 100%;\n",
       "  margin-bottom: 0;\n",
       "  padding: 0.5em;\n",
       "  box-sizing: border-box;\n",
       "  text-align: center;\n",
       "}\n",
       "\n",
       "#sk-container-id-1 label.sk-toggleable__label-arrow:before {\n",
       "  /* Arrow on the left of the label */\n",
       "  content: \"▸\";\n",
       "  float: left;\n",
       "  margin-right: 0.25em;\n",
       "  color: var(--sklearn-color-icon);\n",
       "}\n",
       "\n",
       "#sk-container-id-1 label.sk-toggleable__label-arrow:hover:before {\n",
       "  color: var(--sklearn-color-text);\n",
       "}\n",
       "\n",
       "/* Toggleable content - dropdown */\n",
       "\n",
       "#sk-container-id-1 div.sk-toggleable__content {\n",
       "  max-height: 0;\n",
       "  max-width: 0;\n",
       "  overflow: hidden;\n",
       "  text-align: left;\n",
       "  /* unfitted */\n",
       "  background-color: var(--sklearn-color-unfitted-level-0);\n",
       "}\n",
       "\n",
       "#sk-container-id-1 div.sk-toggleable__content.fitted {\n",
       "  /* fitted */\n",
       "  background-color: var(--sklearn-color-fitted-level-0);\n",
       "}\n",
       "\n",
       "#sk-container-id-1 div.sk-toggleable__content pre {\n",
       "  margin: 0.2em;\n",
       "  border-radius: 0.25em;\n",
       "  color: var(--sklearn-color-text);\n",
       "  /* unfitted */\n",
       "  background-color: var(--sklearn-color-unfitted-level-0);\n",
       "}\n",
       "\n",
       "#sk-container-id-1 div.sk-toggleable__content.fitted pre {\n",
       "  /* unfitted */\n",
       "  background-color: var(--sklearn-color-fitted-level-0);\n",
       "}\n",
       "\n",
       "#sk-container-id-1 input.sk-toggleable__control:checked~div.sk-toggleable__content {\n",
       "  /* Expand drop-down */\n",
       "  max-height: 200px;\n",
       "  max-width: 100%;\n",
       "  overflow: auto;\n",
       "}\n",
       "\n",
       "#sk-container-id-1 input.sk-toggleable__control:checked~label.sk-toggleable__label-arrow:before {\n",
       "  content: \"▾\";\n",
       "}\n",
       "\n",
       "/* Pipeline/ColumnTransformer-specific style */\n",
       "\n",
       "#sk-container-id-1 div.sk-label input.sk-toggleable__control:checked~label.sk-toggleable__label {\n",
       "  color: var(--sklearn-color-text);\n",
       "  background-color: var(--sklearn-color-unfitted-level-2);\n",
       "}\n",
       "\n",
       "#sk-container-id-1 div.sk-label.fitted input.sk-toggleable__control:checked~label.sk-toggleable__label {\n",
       "  background-color: var(--sklearn-color-fitted-level-2);\n",
       "}\n",
       "\n",
       "/* Estimator-specific style */\n",
       "\n",
       "/* Colorize estimator box */\n",
       "#sk-container-id-1 div.sk-estimator input.sk-toggleable__control:checked~label.sk-toggleable__label {\n",
       "  /* unfitted */\n",
       "  background-color: var(--sklearn-color-unfitted-level-2);\n",
       "}\n",
       "\n",
       "#sk-container-id-1 div.sk-estimator.fitted input.sk-toggleable__control:checked~label.sk-toggleable__label {\n",
       "  /* fitted */\n",
       "  background-color: var(--sklearn-color-fitted-level-2);\n",
       "}\n",
       "\n",
       "#sk-container-id-1 div.sk-label label.sk-toggleable__label,\n",
       "#sk-container-id-1 div.sk-label label {\n",
       "  /* The background is the default theme color */\n",
       "  color: var(--sklearn-color-text-on-default-background);\n",
       "}\n",
       "\n",
       "/* On hover, darken the color of the background */\n",
       "#sk-container-id-1 div.sk-label:hover label.sk-toggleable__label {\n",
       "  color: var(--sklearn-color-text);\n",
       "  background-color: var(--sklearn-color-unfitted-level-2);\n",
       "}\n",
       "\n",
       "/* Label box, darken color on hover, fitted */\n",
       "#sk-container-id-1 div.sk-label.fitted:hover label.sk-toggleable__label.fitted {\n",
       "  color: var(--sklearn-color-text);\n",
       "  background-color: var(--sklearn-color-fitted-level-2);\n",
       "}\n",
       "\n",
       "/* Estimator label */\n",
       "\n",
       "#sk-container-id-1 div.sk-label label {\n",
       "  font-family: monospace;\n",
       "  font-weight: bold;\n",
       "  display: inline-block;\n",
       "  line-height: 1.2em;\n",
       "}\n",
       "\n",
       "#sk-container-id-1 div.sk-label-container {\n",
       "  text-align: center;\n",
       "}\n",
       "\n",
       "/* Estimator-specific */\n",
       "#sk-container-id-1 div.sk-estimator {\n",
       "  font-family: monospace;\n",
       "  border: 1px dotted var(--sklearn-color-border-box);\n",
       "  border-radius: 0.25em;\n",
       "  box-sizing: border-box;\n",
       "  margin-bottom: 0.5em;\n",
       "  /* unfitted */\n",
       "  background-color: var(--sklearn-color-unfitted-level-0);\n",
       "}\n",
       "\n",
       "#sk-container-id-1 div.sk-estimator.fitted {\n",
       "  /* fitted */\n",
       "  background-color: var(--sklearn-color-fitted-level-0);\n",
       "}\n",
       "\n",
       "/* on hover */\n",
       "#sk-container-id-1 div.sk-estimator:hover {\n",
       "  /* unfitted */\n",
       "  background-color: var(--sklearn-color-unfitted-level-2);\n",
       "}\n",
       "\n",
       "#sk-container-id-1 div.sk-estimator.fitted:hover {\n",
       "  /* fitted */\n",
       "  background-color: var(--sklearn-color-fitted-level-2);\n",
       "}\n",
       "\n",
       "/* Specification for estimator info (e.g. \"i\" and \"?\") */\n",
       "\n",
       "/* Common style for \"i\" and \"?\" */\n",
       "\n",
       ".sk-estimator-doc-link,\n",
       "a:link.sk-estimator-doc-link,\n",
       "a:visited.sk-estimator-doc-link {\n",
       "  float: right;\n",
       "  font-size: smaller;\n",
       "  line-height: 1em;\n",
       "  font-family: monospace;\n",
       "  background-color: var(--sklearn-color-background);\n",
       "  border-radius: 1em;\n",
       "  height: 1em;\n",
       "  width: 1em;\n",
       "  text-decoration: none !important;\n",
       "  margin-left: 1ex;\n",
       "  /* unfitted */\n",
       "  border: var(--sklearn-color-unfitted-level-1) 1pt solid;\n",
       "  color: var(--sklearn-color-unfitted-level-1);\n",
       "}\n",
       "\n",
       ".sk-estimator-doc-link.fitted,\n",
       "a:link.sk-estimator-doc-link.fitted,\n",
       "a:visited.sk-estimator-doc-link.fitted {\n",
       "  /* fitted */\n",
       "  border: var(--sklearn-color-fitted-level-1) 1pt solid;\n",
       "  color: var(--sklearn-color-fitted-level-1);\n",
       "}\n",
       "\n",
       "/* On hover */\n",
       "div.sk-estimator:hover .sk-estimator-doc-link:hover,\n",
       ".sk-estimator-doc-link:hover,\n",
       "div.sk-label-container:hover .sk-estimator-doc-link:hover,\n",
       ".sk-estimator-doc-link:hover {\n",
       "  /* unfitted */\n",
       "  background-color: var(--sklearn-color-unfitted-level-3);\n",
       "  color: var(--sklearn-color-background);\n",
       "  text-decoration: none;\n",
       "}\n",
       "\n",
       "div.sk-estimator.fitted:hover .sk-estimator-doc-link.fitted:hover,\n",
       ".sk-estimator-doc-link.fitted:hover,\n",
       "div.sk-label-container:hover .sk-estimator-doc-link.fitted:hover,\n",
       ".sk-estimator-doc-link.fitted:hover {\n",
       "  /* fitted */\n",
       "  background-color: var(--sklearn-color-fitted-level-3);\n",
       "  color: var(--sklearn-color-background);\n",
       "  text-decoration: none;\n",
       "}\n",
       "\n",
       "/* Span, style for the box shown on hovering the info icon */\n",
       ".sk-estimator-doc-link span {\n",
       "  display: none;\n",
       "  z-index: 9999;\n",
       "  position: relative;\n",
       "  font-weight: normal;\n",
       "  right: .2ex;\n",
       "  padding: .5ex;\n",
       "  margin: .5ex;\n",
       "  width: min-content;\n",
       "  min-width: 20ex;\n",
       "  max-width: 50ex;\n",
       "  color: var(--sklearn-color-text);\n",
       "  box-shadow: 2pt 2pt 4pt #999;\n",
       "  /* unfitted */\n",
       "  background: var(--sklearn-color-unfitted-level-0);\n",
       "  border: .5pt solid var(--sklearn-color-unfitted-level-3);\n",
       "}\n",
       "\n",
       ".sk-estimator-doc-link.fitted span {\n",
       "  /* fitted */\n",
       "  background: var(--sklearn-color-fitted-level-0);\n",
       "  border: var(--sklearn-color-fitted-level-3);\n",
       "}\n",
       "\n",
       ".sk-estimator-doc-link:hover span {\n",
       "  display: block;\n",
       "}\n",
       "\n",
       "/* \"?\"-specific style due to the `<a>` HTML tag */\n",
       "\n",
       "#sk-container-id-1 a.estimator_doc_link {\n",
       "  float: right;\n",
       "  font-size: 1rem;\n",
       "  line-height: 1em;\n",
       "  font-family: monospace;\n",
       "  background-color: var(--sklearn-color-background);\n",
       "  border-radius: 1rem;\n",
       "  height: 1rem;\n",
       "  width: 1rem;\n",
       "  text-decoration: none;\n",
       "  /* unfitted */\n",
       "  color: var(--sklearn-color-unfitted-level-1);\n",
       "  border: var(--sklearn-color-unfitted-level-1) 1pt solid;\n",
       "}\n",
       "\n",
       "#sk-container-id-1 a.estimator_doc_link.fitted {\n",
       "  /* fitted */\n",
       "  border: var(--sklearn-color-fitted-level-1) 1pt solid;\n",
       "  color: var(--sklearn-color-fitted-level-1);\n",
       "}\n",
       "\n",
       "/* On hover */\n",
       "#sk-container-id-1 a.estimator_doc_link:hover {\n",
       "  /* unfitted */\n",
       "  background-color: var(--sklearn-color-unfitted-level-3);\n",
       "  color: var(--sklearn-color-background);\n",
       "  text-decoration: none;\n",
       "}\n",
       "\n",
       "#sk-container-id-1 a.estimator_doc_link.fitted:hover {\n",
       "  /* fitted */\n",
       "  background-color: var(--sklearn-color-fitted-level-3);\n",
       "}\n",
       "</style><div id=\"sk-container-id-1\" class=\"sk-top-container\"><div class=\"sk-text-repr-fallback\"><pre>KNeighborsClassifier()</pre><b>In a Jupyter environment, please rerun this cell to show the HTML representation or trust the notebook. <br />On GitHub, the HTML representation is unable to render, please try loading this page with nbviewer.org.</b></div><div class=\"sk-container\" hidden><div class=\"sk-item\"><div class=\"sk-estimator fitted sk-toggleable\"><input class=\"sk-toggleable__control sk-hidden--visually\" id=\"sk-estimator-id-1\" type=\"checkbox\" checked><label for=\"sk-estimator-id-1\" class=\"sk-toggleable__label fitted sk-toggleable__label-arrow fitted\">&nbsp;&nbsp;KNeighborsClassifier<a class=\"sk-estimator-doc-link fitted\" rel=\"noreferrer\" target=\"_blank\" href=\"https://scikit-learn.org/1.5/modules/generated/sklearn.neighbors.KNeighborsClassifier.html\">?<span>Documentation for KNeighborsClassifier</span></a><span class=\"sk-estimator-doc-link fitted\">i<span>Fitted</span></span></label><div class=\"sk-toggleable__content fitted\"><pre>KNeighborsClassifier()</pre></div> </div></div></div></div>"
      ],
      "text/plain": [
       "KNeighborsClassifier()"
      ]
     },
     "execution_count": 7,
     "metadata": {},
     "output_type": "execute_result"
    }
   ],
   "source": [
    "# Treinando modelos\n",
    "tree.fit(X_train, y_train)\n",
    "\n",
    "rf.fit(X_train, y_train)\n",
    "\n",
    "knn.fit(X_train, y_train)"
   ]
  },
  {
   "cell_type": "markdown",
   "metadata": {
    "id": "-GucYgr61biW"
   },
   "source": [
    "#### Testando e avaliando modelos"
   ]
  },
  {
   "cell_type": "code",
   "execution_count": 8,
   "metadata": {
    "id": "dFkVhJVR1biW"
   },
   "outputs": [],
   "source": [
    "# Prevendo valores\n",
    "tree_predict = tree.predict(X_test)\n",
    "\n",
    "rf_predict = rf.predict(X_test)\n",
    "\n",
    "knn_predict = knn.predict(X_test)"
   ]
  },
  {
   "cell_type": "code",
   "execution_count": 13,
   "metadata": {},
   "outputs": [
    {
     "name": "stdout",
     "output_type": "stream",
     "text": [
      "[2 1 0 2 0 2 0 1 1 1 2 1 1 1 1 0 1 1 0 0 2 1 0 0 2 0 0 1 1 0]\n",
      "[2 1 0 2 0 2 0 1 1 1 2 1 1 1 1 0 1 1 0 0 2 1 0 0 2 0 0 1 1 0]\n"
     ]
    }
   ],
   "source": [
    "print(tree_predict)\n",
    "print(y_test)"
   ]
  },
  {
   "cell_type": "code",
   "execution_count": 9,
   "metadata": {
    "id": "b3FGTEbt1biX",
    "outputId": "719090d0-a56c-456a-c5b1-ad52cc1b33e8"
   },
   "outputs": [
    {
     "name": "stdout",
     "output_type": "stream",
     "text": [
      "Pontuação Decision Tree:1.0\n",
      "Pontuação Random Forest:1.0\n",
      "Pontuação KNN:0.9666666666666667\n"
     ]
    }
   ],
   "source": [
    "# Avaliação\n",
    "tree_score = accuracy_score(y_test, tree_predict)\n",
    "rf_score = accuracy_score(y_test, rf_predict)\n",
    "knn_score = accuracy_score(y_test, knn_predict)\n",
    "\n",
    "print(f\"Pontuação Decision Tree:{tree_score}\")\n",
    "print(f\"Pontuação Random Forest:{rf_score}\")\n",
    "print(f\"Pontuação KNN:{knn_score}\")"
   ]
  },
  {
   "cell_type": "code",
   "execution_count": 10,
   "metadata": {
    "id": "g4hSZcsV1biY",
    "outputId": "ad39ed7e-78da-4f77-a95a-1fc4cbd13b18"
   },
   "outputs": [
    {
     "data": {
      "image/png": "[encoded data removed]",
      "text/plain": [
       "<Figure size 800x400 with 1 Axes>"
      ]
     },
     "metadata": {},
     "output_type": "display_data"
    }
   ],
   "source": [
    "# Plotando resultados\n",
    "plt.figure(figsize = (8,4))\n",
    "plt.title(\"Models accuracy\")\n",
    "plt.bar(x = [0,1,2], height = [tree_score, rf_score, knn_score], color = \"black\")\n",
    "plt.xticks([0,1,2], [\"Tree\",\"RF\", \"KNN\"])\n",
    "plt.ylim(0.8,1.1)\n",
    "plt.ylabel(\"Accuracy\")\n",
    "plt.xlabel(\"Models\")\n",
    "plt.grid()\n",
    "plt.show()"
   ]
  },
  {
   "cell_type": "code",
   "execution_count": 11,
   "metadata": {
    "id": "nGoZBLKD1biZ",
    "outputId": "f650391d-d548-42c6-9b58-59288ddfe13f"
   },
   "outputs": [
    {
     "data": {
      "image/png": "[encoded data removed]",
      "text/plain": [
       "<Figure size 1200x700 with 6 Axes>"
      ]
     },
     "metadata": {},
     "output_type": "display_data"
    }
   ],
   "source": [
    "\n",
    "# Plotando os resultados\n",
    "plt.figure(figsize=(12, 7))\n",
    "\n",
    "# Plot para Árvore de Decisão\n",
    "plt.subplot(2, 3, 4)\n",
    "sns.scatterplot(x=X_test[:, 0], y=X_test[:, 1], hue=tree_predict)\n",
    "plt.xlabel('Sepal Length (cm)')\n",
    "plt.ylabel('Sepal Width (cm)')\n",
    "plt.title('Decision Tree Predictions')\n",
    "\n",
    "# Plot para Floresta Aleatória\n",
    "plt.subplot(2, 3, 5)\n",
    "sns.scatterplot(x=X_test[:, 0], y=X_test[:, 1], hue=rf_predict)\n",
    "plt.xlabel('Sepal Length (cm)')\n",
    "plt.ylabel('Sepal Width (cm)')\n",
    "plt.title('Random Forest Predictions')\n",
    "\n",
    "# Plot para KNN\n",
    "plt.subplot(2, 3, 6)\n",
    "sns.scatterplot(x=X_test[:, 0], y=X_test[:, 1], hue=knn_predict)\n",
    "plt.xlabel('Sepal Length (cm)')\n",
    "plt.ylabel('Sepal Width (cm)')\n",
    "plt.title('KNN Predictions')\n",
    "\n",
    "\n",
    "# Plot para Árvore de Decisão\n",
    "plt.subplot(2, 3, 1)\n",
    "sns.scatterplot(x=X_test[:, 2], y=X_test[:, 3], hue=tree_predict)\n",
    "plt.xlabel('Petal Length (cm)')\n",
    "plt.ylabel('Petal Width (cm)')\n",
    "plt.title('Decision Tree Predictions')\n",
    "\n",
    "# Plot para Floresta Aleatória\n",
    "plt.subplot(2, 3, 2)\n",
    "sns.scatterplot(x=X_test[:, 2], y=X_test[:, 3], hue=rf_predict)\n",
    "plt.xlabel('Petal Length (cm)')\n",
    "plt.ylabel('Petal Width (cm)')\n",
    "plt.title('Random Forest Predictions')\n",
    "\n",
    "# Plot para KNN\n",
    "plt.subplot(2, 3, 3)\n",
    "sns.scatterplot(x=X_test[:, 2], y=X_test[:, 3], hue=knn_predict)\n",
    "plt.xlabel('Petal Length (cm)')\n",
    "plt.ylabel('Petal Width (cm)')\n",
    "plt.title('KNN Predictions')\n",
    "\n",
    "plt.tight_layout()\n",
    "plt.show()\n"
   ]
  },
  {
   "cell_type": "markdown",
   "metadata": {
    "id": "vdJVcpKp1bia"
   },
   "source": [
    "#### Exercício\n",
    "\n",
    "Fazer a Classificação do DataSet \"Wine\" de vinhos na pasta Data usando qualquer um dos algoritimos de Treino.\n",
    "\n",
    "![Dataset wine](imagens/vinho.jpg)\n",
    "\n",
    "Não é necessário usar os três algoritmos. Pode só escolher um e fazer o exercício."
   ]
  },
  {
   "cell_type": "markdown",
   "metadata": {
    "id": "rssf-WeO1bib"
   },
   "source": [
    "#### Wine Dataset\n",
    "\n",
    "#### Leitura dos Dados\n",
    "\n",
    "Leia o wine.csv e use a função head para mostrar os primeiros elementos"
   ]
  },
  {
   "cell_type": "code",
   "execution_count": null,
   "metadata": {
    "id": "0bbdB9qh1bib"
   },
   "outputs": [],
   "source": []
  },
  {
   "cell_type": "markdown",
   "metadata": {
    "id": "x8jGenEg1bib"
   },
   "source": [
    "#### Análise Exploratória\n",
    "\n",
    "Como esse Dataset possui muitas variáveis, plote um gráfico de histograma para facilitar. Basta usar a função data.hist(figsize=(15,10))"
   ]
  },
  {
   "cell_type": "code",
   "execution_count": null,
   "metadata": {
    "id": "QicsE-qF1bic",
    "scrolled": true
   },
   "outputs": [],
   "source": []
  },
  {
   "cell_type": "markdown",
   "metadata": {
    "id": "GDXPUst_1bic"
   },
   "source": [
    "#### Definição do Modelo e treino\n",
    "\n",
    "#### Instâncie o seu modelo"
   ]
  },
  {
   "cell_type": "code",
   "execution_count": null,
   "metadata": {
    "id": "T0YTX-vP1bid"
   },
   "outputs": [],
   "source": []
  },
  {
   "cell_type": "markdown",
   "metadata": {
    "id": "eqU4NdGN1bid"
   },
   "source": [
    "#### Separando Variáveis\n",
    "\n",
    "A coluna alvo é a coluna 'Wine' que tem os tipos 1, 2 e 3 de vinhos. Separe o alvo(y) das features(x).\n",
    "Dica: Use a função X = data.drop('Wine', axis=1) para remover a coluna de target. É mais fácil so que selecionar todos as colunas que não são alvo"
   ]
  },
  {
   "cell_type": "code",
   "execution_count": null,
   "metadata": {
    "id": "89WLIdbv1bie"
   },
   "outputs": [],
   "source": []
  },
  {
   "cell_type": "markdown",
   "metadata": {
    "id": "gdIhdzKF1bie"
   },
   "source": [
    "#### Divida os dados x e y em treino e teste da forma que foi mostrada em Irís"
   ]
  },
  {
   "cell_type": "code",
   "execution_count": null,
   "metadata": {
    "id": "n7T0zHJ81bie"
   },
   "outputs": [],
   "source": []
  },
  {
   "cell_type": "markdown",
   "metadata": {
    "id": "3hlCdMkO1bie"
   },
   "source": [
    "#### Treinando os Modelos"
   ]
  },
  {
   "cell_type": "code",
   "execution_count": null,
   "metadata": {
    "id": "wlDGHhU31bif"
   },
   "outputs": [],
   "source": []
  },
  {
   "cell_type": "markdown",
   "metadata": {
    "id": "mcpWGSyp1bif"
   },
   "source": [
    "#### Testando e valiando os Modelos\n",
    "\n",
    "Prevendo os valores"
   ]
  },
  {
   "cell_type": "code",
   "execution_count": null,
   "metadata": {
    "id": "Hlln2Dn41big"
   },
   "outputs": [],
   "source": []
  },
  {
   "cell_type": "markdown",
   "metadata": {
    "id": "HgPtToQj1big"
   },
   "source": [
    "Mostre a precisão do Algoritmo que foi escolhido. Não é necessário plotar"
   ]
  },
  {
   "cell_type": "code",
   "execution_count": null,
   "metadata": {
    "id": "VzrVuGU_1big"
   },
   "outputs": [],
   "source": []
  }
 ],
 "metadata": {
  "colab": {
   "provenance": []
  },
  "kernelspec": {
   "display_name": "Python 3 (ipykernel)",
   "language": "python",
   "name": "python3"
  },
  "language_info": {
   "codemirror_mode": {
    "name": "ipython",
    "version": 3
   },
   "file_extension": ".py",
   "mimetype": "text/x-python",
   "name": "python",
   "nbconvert_exporter": "python",
   "pygments_lexer": "ipython3",
   "version": "3.9.13"
  }
 },
 "nbformat": 4,
 "nbformat_minor": 4
}
