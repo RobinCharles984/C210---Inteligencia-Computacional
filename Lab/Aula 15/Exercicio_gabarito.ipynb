{
 "cells": [
  {
   "cell_type": "markdown",
   "metadata": {},
   "source": [
    "### Exercício: Adaline e Perceptron\n",
    "\n",
    "\n",
    "Dado os seguintes dados de treinamento, onde o valor entre parênteses é a coordenada e o \"1\" ou \"-1\" é a resposta desejada:\n",
    "\n",
    "    (-0.67, 0.51), 1\n",
    "    (1.13, 1.34), 1\n",
    "    (-0.63, -0.02), 1\n",
    "    (0.10, -1.35), -1\n",
    "    (0.88, -1.09), -1\n",
    "    (0.94, 0.61), -1\n",
    "    (-1.06, -1.13), -1\n",
    "    (-0.85, -0.34), 1\n",
    "    (-0.38, -0.29), 1\n",
    "    (0.18, -0.72), -1\n",
    "    (0.24, -0.08), 1\n",
    "    (-0.80, -0.31), 1\n",
    "    (0.25, 0.36), 1\n",
    "    (-1.19, -0.61), 1\n",
    "    (0.78, 1.05), 1\n",
    "    (0.46, -0.19), -1\n",
    "    (-0.12, 0.56), 1\n",
    "    (1.52, 1.69), 1\n",
    "    (0.84, -0.68), -1\n",
    "    (-1.16, -0.73), 1\n",
    "\n",
    "Treine as redes Adaline e Perceptron para resolver esse problema. Depois teste com o seguinte conjunto de dados:\n",
    "\n",
    "    (-0.91, 1.26), 1\n",
    "    (-1.06, 1.20), 1\n",
    "    (0.16, 0.80), 1\n",
    "    (-1.07, 1.82), 1\n",
    "    (0.07, 0.12), 1\n",
    "    (1.33, -0.13), -1\n",
    "\n",
    "\n",
    "Dica: Use  $η=0.01$ nos dois, 1000 épocas no perceptron e um critério de parada de $10^-3$ (1e-3) no Adaline\n"
   ]
  },
  {
   "cell_type": "markdown",
   "metadata": {},
   "source": [
    "#### Código Adaline (não precisa alterar)"
   ]
  },
  {
   "cell_type": "code",
   "execution_count": 1,
   "metadata": {},
   "outputs": [],
   "source": [
    "import numpy as np\n",
    "import matplotlib.pyplot as plt"
   ]
  },
  {
   "cell_type": "code",
   "execution_count": 2,
   "metadata": {},
   "outputs": [],
   "source": [
    "class Adaline:\n",
    "    \n",
    "    def __init__(self, lr, e):\n",
    "        '''Construtor, define taxa de aprendizado e a taxa de erro aceita para convergir'''\n",
    "        self.lr = lr\n",
    "        self.e = e\n",
    "    def activation(self, value):\n",
    "        ''' 1 se value > 0, -1 senão'''\n",
    "        return (1 if value >= 0 else -1)\n",
    "        \n",
    "    def predict(self, x):\n",
    "        ''' Multiplicação matricial entre as entradas e os pesos somado ao bias proporcional'''\n",
    "        return np.dot(x, self.weights.T) + self.bias * self.w_bias\n",
    "    \n",
    "    def evaluate(self, target, predicted):\n",
    "        ''' Calcula a diferença entre o valor real e o valor predito'''\n",
    "        return (target - predicted)\n",
    "    \n",
    "    def train(self, x, d):\n",
    "        ''' Definir aleatoriamente os pesos, o bias e o peso do bias\n",
    "            Enquanto a diferença entre m mse_anterior e o mse_atual for maior que 'e' continua o processo \n",
    "        '''\n",
    "        self.weights = np.random.random(x.shape[1])\n",
    "        self.bias = -1\n",
    "        self.w_bias = np.random.random()\n",
    "        \n",
    "        epoch = 0\n",
    "        self.total_mse = []\n",
    "        last_mse = np.inf\n",
    "        \n",
    "        \n",
    "        while True:\n",
    "            mse = 0\n",
    "            # Para cada amostra\n",
    "            for xi, target in zip(x, d):\n",
    "                \n",
    "                predicted = self.predict(xi)  \n",
    "                current_error = self.evaluate(target, predicted)\n",
    "                mse += (current_error ** 2)\n",
    "                self.weights += self.lr * current_error * xi\n",
    "                self.w_bias += self.lr * current_error * self.bias\n",
    "                \n",
    "            mse = (mse/len(x))\n",
    "            print(f\"EPOCH: {epoch}\\t- MSE: {mse}\\t- MSE_ant - MSE: {abs(last_mse - mse)}\")\n",
    "            if abs(last_mse - mse) <= self.e:\n",
    "                break\n",
    "            \n",
    "            self.total_mse.append(mse)\n",
    "            last_mse = mse\n",
    "            epoch +=1\n",
    "            \n",
    "    def test(self, x):\n",
    "        ''' Dado uma lista de X, submete-os à rede'''\n",
    "        results = []\n",
    "        for xi in x:\n",
    "            predict = self.predict(xi)\n",
    "            predict = self.activation(predict)\n",
    "            results.append(predict)\n",
    "            \n",
    "        return results"
   ]
  },
  {
   "cell_type": "markdown",
   "metadata": {},
   "source": [
    "#### Código Perceptron (não precisa alterar)"
   ]
  },
  {
   "cell_type": "code",
   "execution_count": 3,
   "metadata": {},
   "outputs": [],
   "source": [
    "class Perceptron:\n",
    "    \n",
    "    def __init__(self, lr, n_epochs):\n",
    "        '''Construtor, define taxa de aprendizado e número máximo de épocas'''\n",
    "        self.lr = lr\n",
    "        self.n_epochs = n_epochs\n",
    "        \n",
    "    def activation(self, value):\n",
    "        ''' 1 se value > 0, -1 se value < 0, 0 se value == 0 '''\n",
    "        return (1 if value > 0 else -1 if value < 0 else 0)\n",
    "        \n",
    "    def predict(self, x):\n",
    "        ''' Multiplicação matricial entre as entradas e os pesos somado ao bias proporcional'''\n",
    "        return np.dot(x, self.weights.T) + self.bias * self.w_bias\n",
    "    \n",
    "    def evaluate(self, target, predicted):\n",
    "        ''' Calcula a diferença entre o valor real e o valor predito'''\n",
    "        return (target - predicted)\n",
    "    \n",
    "    def train(self, x, d):\n",
    "        ''' Definir aleatoriamente os pesos, o bias e o peso do bias\n",
    "            Enquanto houver erro, ou o máximo de épocas não for atingido continua o processo\n",
    "            \n",
    "        '''\n",
    "        self.weights = np.random.random(x.shape[1])\n",
    "        self.bias = np.random.random()\n",
    "        self.w_bias = np.random.random()\n",
    "        \n",
    "        epoch = 0\n",
    "        is_error = True\n",
    "        self.total_error = []\n",
    "        \n",
    "        while is_error and epoch < self.n_epochs:\n",
    "            \n",
    "            is_error  = False\n",
    "            epoch_errors = 0\n",
    "            \n",
    "            # Para cada amostra\n",
    "            for xi, target in zip(x, d):\n",
    "                \n",
    "                predicted = self.predict(xi)\n",
    "                predicted = self.activation(predicted)\n",
    "                \n",
    "                current_error = self.evaluate(target, predicted)\n",
    "                epoch_errors += current_error\n",
    "                \n",
    "                # Se houve erro, atualizar os pesos\n",
    "                if predicted != target:\n",
    "                    \n",
    "                    self.weights += self.lr * current_error * xi\n",
    "                    self.w_bias += self.lr * current_error * self.bias\n",
    "                    is_error = True\n",
    "                    \n",
    "            self.total_error.append(epoch_errors/len(x))\n",
    "            epoch += 1\n",
    "            \n",
    "    def test(self, x):\n",
    "        ''' Dado uma lista de X, submete-os à rede'''\n",
    "        results = []\n",
    "        for xi in x:\n",
    "            predict = self.predict(xi)\n",
    "            predict = self.activation(predict)\n",
    "            results.append(predict)\n",
    "            \n",
    "        return results"
   ]
  },
  {
   "cell_type": "markdown",
   "metadata": {},
   "source": [
    "#### Dados"
   ]
  },
  {
   "cell_type": "code",
   "execution_count": 4,
   "metadata": {},
   "outputs": [
    {
     "data": {
      "image/png": "[encoded data removed]",
      "text/plain": [
       "<Figure size 600x400 with 1 Axes>"
      ]
     },
     "metadata": {},
     "output_type": "display_data"
    }
   ],
   "source": [
    "# Dataset\n",
    "x = np.array([\n",
    "    [-0.67, 0.51],\n",
    "    [1.13, 1.34],\n",
    "    [-0.63, -0.02],\n",
    "    [0.10, -1.35],\n",
    "    [0.88, -1.09],\n",
    "    [0.94, 0.61],\n",
    "    [-1.06, -1.13],\n",
    "    [-0.85, -0.34],\n",
    "    [-0.38, -0.29],\n",
    "    [0.18, -0.72],\n",
    "    [0.24, -0.08],\n",
    "    [-0.80, -0.31],\n",
    "    [0.25, 0.36],\n",
    "    [-1.19, -0.61],\n",
    "    [0.78, 1.05],\n",
    "    [0.46, -0.19],\n",
    "    [-0.12, 0.56],\n",
    "    [1.52, 1.69],\n",
    "    [0.84, -0.68],\n",
    "    [-1.16, -0.73]\n",
    "])\n",
    "\n",
    "d = np.array([1, 1, 1, -1, -1, -1, -1, 1, 1, -1, 1, 1, 1, 1, 1, -1, 1, 1, -1, 1])\n",
    "\n",
    "plt.figure(figsize=(6,4))\n",
    "plt.title(\"Data points\")\n",
    "plt.scatter(x[:, 0], x[:, 1], c = d, cmap = 'bwr')\n",
    "plt.show()"
   ]
  },
  {
   "cell_type": "markdown",
   "metadata": {},
   "source": [
    "#### Treinamento"
   ]
  },
  {
   "cell_type": "code",
   "execution_count": 5,
   "metadata": {},
   "outputs": [
    {
     "name": "stdout",
     "output_type": "stream",
     "text": [
      "EPOCH: 0\t- MSE: 0.8618789389968844\t- MSE_ant - MSE: inf\n",
      "EPOCH: 1\t- MSE: 0.7240279039003508\t- MSE_ant - MSE: 0.13785103509653363\n",
      "EPOCH: 2\t- MSE: 0.6268677898500657\t- MSE_ant - MSE: 0.09716011405028502\n",
      "EPOCH: 3\t- MSE: 0.5572257335041332\t- MSE_ant - MSE: 0.06964205634593257\n",
      "EPOCH: 4\t- MSE: 0.5063550605443289\t- MSE_ant - MSE: 0.0508706729598043\n",
      "EPOCH: 5\t- MSE: 0.46842805165426454\t- MSE_ant - MSE: 0.03792700889006434\n",
      "EPOCH: 6\t- MSE: 0.43954423451940966\t- MSE_ant - MSE: 0.028883817134854883\n",
      "EPOCH: 7\t- MSE: 0.4170776434975484\t- MSE_ant - MSE: 0.02246659102186127\n",
      "EPOCH: 8\t- MSE: 0.3992469742768049\t- MSE_ant - MSE: 0.0178306692207435\n",
      "EPOCH: 9\t- MSE: 0.3848323253248736\t- MSE_ant - MSE: 0.014414648951931286\n",
      "EPOCH: 10\t- MSE: 0.37298835942371633\t- MSE_ant - MSE: 0.011843965901157272\n",
      "EPOCH: 11\t- MSE: 0.3631209038791428\t- MSE_ant - MSE: 0.009867455544573522\n",
      "EPOCH: 12\t- MSE: 0.35480530531375576\t- MSE_ant - MSE: 0.00831559856538705\n",
      "EPOCH: 13\t- MSE: 0.3477322814888688\t- MSE_ant - MSE: 0.007073023824886948\n",
      "EPOCH: 14\t- MSE: 0.34167189453384206\t- MSE_ant - MSE: 0.006060386955026753\n",
      "EPOCH: 15\t- MSE: 0.33644947915018003\t- MSE_ant - MSE: 0.005222415383662027\n",
      "EPOCH: 16\t- MSE: 0.3319294689702886\t- MSE_ant - MSE: 0.004520010179891454\n",
      "EPOCH: 17\t- MSE: 0.3280044510810676\t- MSE_ant - MSE: 0.00392501788922095\n",
      "EPOCH: 18\t- MSE: 0.32458769046268154\t- MSE_ant - MSE: 0.0034167606183860832\n",
      "EPOCH: 19\t- MSE: 0.32160796556159954\t- MSE_ant - MSE: 0.0029797249010820037\n",
      "EPOCH: 20\t- MSE: 0.31900595043759344\t- MSE_ant - MSE: 0.0026020151240060962\n",
      "EPOCH: 21\t- MSE: 0.31673163824168754\t- MSE_ant - MSE: 0.002274312195905903\n",
      "EPOCH: 22\t- MSE: 0.3147424714304468\t- MSE_ant - MSE: 0.001989166811240728\n",
      "EPOCH: 23\t- MSE: 0.3130019564876806\t- MSE_ant - MSE: 0.0017405149427662248\n",
      "EPOCH: 24\t- MSE: 0.3114786149770591\t- MSE_ant - MSE: 0.001523341510621501\n",
      "EPOCH: 25\t- MSE: 0.31014517161139205\t- MSE_ant - MSE: 0.001333443365667042\n",
      "EPOCH: 26\t- MSE: 0.3089779123200852\t- MSE_ant - MSE: 0.0011672592913068436\n",
      "EPOCH: 27\t- MSE: 0.3079561666924309\t- MSE_ant - MSE: 0.0010217456276542802\n",
      "EPOCH: 28\t- MSE: 0.3070618833948356\t- MSE_ant - MSE: 0.000894283297595333\n"
     ]
    }
   ],
   "source": [
    "a = Adaline(lr = 0.01, e = 1e-3)\n",
    "a.train(x = x, d = d)\n",
    "\n",
    "p = Perceptron(lr = 0.01, n_epochs = 100)\n",
    "p.train(x = x, d = d)\n"
   ]
  },
  {
   "cell_type": "markdown",
   "metadata": {},
   "source": [
    "#### Teste"
   ]
  },
  {
   "cell_type": "code",
   "execution_count": 6,
   "metadata": {},
   "outputs": [
    {
     "data": {
      "text/plain": [
       "[1, 1, 1, 1, 1, -1]"
      ]
     },
     "execution_count": 6,
     "metadata": {},
     "output_type": "execute_result"
    }
   ],
   "source": [
    "teste = np.array([\n",
    "    [-0.91, 1.26],\n",
    "    [-1.06, 1.20],\n",
    "    [0.16, 0.80],\n",
    "    [-1.07, 1.82],\n",
    "    [0.07, 0.12],\n",
    "    [1.33, -0.13]\n",
    "])\n",
    "\n",
    "resultado_perceptron = p.test(teste)\n",
    "resultado_perceptron\n",
    "resultado_adaline = a.test(teste)\n",
    "resultado_adaline"
   ]
  },
  {
   "cell_type": "code",
   "execution_count": 15,
   "metadata": {},
   "outputs": [
    {
     "data": {
      "image/png": "[encoded data removed]",
      "text/plain": [
       "<Figure size 1200x800 with 1 Axes>"
      ]
     },
     "metadata": {},
     "output_type": "display_data"
    }
   ],
   "source": [
    "from matplotlib.lines import Line2D\n",
    "plt.figure(figsize=(12,8))\n",
    "plt.title(\"Data points + Predicted\")\n",
    "plt.scatter(x[:, 0], x[:, 1], c = d, cmap = 'bwr')\n",
    "plt.scatter(teste[:, 0], teste[:, 1], c = resultado_adaline, cmap = 'bwr', marker = \"*\", s=250)\n",
    "plt.scatter(teste[:, 0], teste[:, 1], c = resultado_perceptron, cmap = 'bwr', marker = \"^\", s=250)\n",
    "# Customizando a legenda\n",
    "legend_elements = [\n",
    "    Line2D([0], [0], marker='*', color='w', markerfacecolor='green', markersize=10, label=\"se refere ao teste do Adaline\"),\n",
    "    Line2D([0], [0], marker='^', color='w', markerfacecolor='green', markersize=10, label=\"se refere ao teste do Perceptron\")\n",
    "]\n",
    "\n",
    "# Adicionando a legenda\n",
    "plt.legend(handles=legend_elements, loc='upper right')\n",
    "plt.show()"
   ]
  }
 ],
 "metadata": {
  "kernelspec": {
   "display_name": "Python 3 (ipykernel)",
   "language": "python",
   "name": "python3"
  },
  "language_info": {
   "codemirror_mode": {
    "name": "ipython",
    "version": 3
   },
   "file_extension": ".py",
   "mimetype": "text/x-python",
   "name": "python",
   "nbconvert_exporter": "python",
   "pygments_lexer": "ipython3",
   "version": "3.10.12"
  }
 },
 "nbformat": 4,
 "nbformat_minor": 4
}
