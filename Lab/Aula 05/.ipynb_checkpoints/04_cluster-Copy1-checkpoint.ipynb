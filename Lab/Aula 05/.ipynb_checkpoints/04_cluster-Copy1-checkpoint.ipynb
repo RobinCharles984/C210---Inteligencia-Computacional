{
 "cells": [
  {
   "cell_type": "markdown",
   "metadata": {},
   "source": [
    "### Agrupamento\n",
    "Analisar o dataset 'cluster' disponibilizado na pasta data, criar um modelo de agrupamento para os dados e avaliar as métricas"
   ]
  },
  {
   "cell_type": "markdown",
   "metadata": {},
   "source": [
    "#### Importando bibliotecas"
   ]
  },
  {
   "cell_type": "code",
   "execution_count": 1,
   "metadata": {},
   "outputs": [],
   "source": [
    "### Análise de dados\n",
    "import pandas as pd\n",
    "import numpy as np\n",
    "import matplotlib.pyplot as plt\n",
    "import seaborn as sns\n",
    "\n",
    "### Criação do modelo\n",
    "from sklearn.cluster import KMeans\n",
    "\n",
    "### Avaliação de métricas\n",
    "from sklearn.metrics import calinski_harabasz_score, silhouette_score"
   ]
  },
  {
   "cell_type": "markdown",
   "metadata": {},
   "source": [
    "#### Leitura de dados"
   ]
  },
  {
   "cell_type": "code",
   "execution_count": 2,
   "metadata": {},
   "outputs": [
    {
     "data": {
      "text/html": [
       "<div>\n",
       "<style scoped>\n",
       "    .dataframe tbody tr th:only-of-type {\n",
       "        vertical-align: middle;\n",
       "    }\n",
       "\n",
       "    .dataframe tbody tr th {\n",
       "        vertical-align: top;\n",
       "    }\n",
       "\n",
       "    .dataframe thead th {\n",
       "        text-align: right;\n",
       "    }\n",
       "</style>\n",
       "<table border=\"1\" class=\"dataframe\">\n",
       "  <thead>\n",
       "    <tr style=\"text-align: right;\">\n",
       "      <th></th>\n",
       "      <th>X1</th>\n",
       "      <th>X2</th>\n",
       "    </tr>\n",
       "  </thead>\n",
       "  <tbody>\n",
       "    <tr>\n",
       "      <th>0</th>\n",
       "      <td>9.475315</td>\n",
       "      <td>12.478082</td>\n",
       "    </tr>\n",
       "    <tr>\n",
       "      <th>1</th>\n",
       "      <td>7.769381</td>\n",
       "      <td>4.820967</td>\n",
       "    </tr>\n",
       "    <tr>\n",
       "      <th>2</th>\n",
       "      <td>10.665292</td>\n",
       "      <td>12.193943</td>\n",
       "    </tr>\n",
       "    <tr>\n",
       "      <th>3</th>\n",
       "      <td>4.859041</td>\n",
       "      <td>18.147385</td>\n",
       "    </tr>\n",
       "    <tr>\n",
       "      <th>4</th>\n",
       "      <td>4.805134</td>\n",
       "      <td>17.645864</td>\n",
       "    </tr>\n",
       "  </tbody>\n",
       "</table>\n",
       "</div>"
      ],
      "text/plain": [
       "          X1         X2\n",
       "0   9.475315  12.478082\n",
       "1   7.769381   4.820967\n",
       "2  10.665292  12.193943\n",
       "3   4.859041  18.147385\n",
       "4   4.805134  17.645864"
      ]
     },
     "execution_count": 2,
     "metadata": {},
     "output_type": "execute_result"
    }
   ],
   "source": [
    "data = pd.read_csv(\"data/cluster.csv\")\n",
    "data.head() # imprimir 5 primeiros registros"
   ]
  },
  {
   "cell_type": "markdown",
   "metadata": {},
   "source": [
    "#### Análise exploratória"
   ]
  },
  {
   "cell_type": "code",
   "execution_count": 6,
   "metadata": {},
   "outputs": [
    {
     "data": {
      "text/html": [
       "<div>\n",
       "<style scoped>\n",
       "    .dataframe tbody tr th:only-of-type {\n",
       "        vertical-align: middle;\n",
       "    }\n",
       "\n",
       "    .dataframe tbody tr th {\n",
       "        vertical-align: top;\n",
       "    }\n",
       "\n",
       "    .dataframe thead th {\n",
       "        text-align: right;\n",
       "    }\n",
       "</style>\n",
       "<table border=\"1\" class=\"dataframe\">\n",
       "  <thead>\n",
       "    <tr style=\"text-align: right;\">\n",
       "      <th></th>\n",
       "      <th>X1</th>\n",
       "      <th>X2</th>\n",
       "    </tr>\n",
       "  </thead>\n",
       "  <tbody>\n",
       "    <tr>\n",
       "      <th>0</th>\n",
       "      <td>9.475315</td>\n",
       "      <td>12.478082</td>\n",
       "    </tr>\n",
       "    <tr>\n",
       "      <th>1</th>\n",
       "      <td>7.769381</td>\n",
       "      <td>4.820967</td>\n",
       "    </tr>\n",
       "    <tr>\n",
       "      <th>2</th>\n",
       "      <td>10.665292</td>\n",
       "      <td>12.193943</td>\n",
       "    </tr>\n",
       "    <tr>\n",
       "      <th>3</th>\n",
       "      <td>4.859041</td>\n",
       "      <td>18.147385</td>\n",
       "    </tr>\n",
       "    <tr>\n",
       "      <th>4</th>\n",
       "      <td>4.805134</td>\n",
       "      <td>17.645864</td>\n",
       "    </tr>\n",
       "    <tr>\n",
       "      <th>...</th>\n",
       "      <td>...</td>\n",
       "      <td>...</td>\n",
       "    </tr>\n",
       "    <tr>\n",
       "      <th>495</th>\n",
       "      <td>5.523470</td>\n",
       "      <td>18.065763</td>\n",
       "    </tr>\n",
       "    <tr>\n",
       "      <th>496</th>\n",
       "      <td>7.412230</td>\n",
       "      <td>4.511848</td>\n",
       "    </tr>\n",
       "    <tr>\n",
       "      <th>497</th>\n",
       "      <td>14.629721</td>\n",
       "      <td>10.945391</td>\n",
       "    </tr>\n",
       "    <tr>\n",
       "      <th>498</th>\n",
       "      <td>10.254173</td>\n",
       "      <td>10.862733</td>\n",
       "    </tr>\n",
       "    <tr>\n",
       "      <th>499</th>\n",
       "      <td>4.619510</td>\n",
       "      <td>17.300494</td>\n",
       "    </tr>\n",
       "  </tbody>\n",
       "</table>\n",
       "<p>500 rows × 2 columns</p>\n",
       "</div>"
      ],
      "text/plain": [
       "            X1         X2\n",
       "0     9.475315  12.478082\n",
       "1     7.769381   4.820967\n",
       "2    10.665292  12.193943\n",
       "3     4.859041  18.147385\n",
       "4     4.805134  17.645864\n",
       "..         ...        ...\n",
       "495   5.523470  18.065763\n",
       "496   7.412230   4.511848\n",
       "497  14.629721  10.945391\n",
       "498  10.254173  10.862733\n",
       "499   4.619510  17.300494\n",
       "\n",
       "[500 rows x 2 columns]"
      ]
     },
     "execution_count": 6,
     "metadata": {},
     "output_type": "execute_result"
    }
   ],
   "source": [
    "X = data\n",
    "X"
   ]
  },
  {
   "cell_type": "code",
   "execution_count": 5,
   "metadata": {},
   "outputs": [
    {
     "name": "stdout",
     "output_type": "stream",
     "text": [
      "            X1         X2\n",
      "0     9.475315  12.478082\n",
      "1     7.769381   4.820967\n",
      "2    10.665292  12.193943\n",
      "3     4.859041  18.147385\n",
      "4     4.805134  17.645864\n",
      "..         ...        ...\n",
      "495   5.523470  18.065763\n",
      "496   7.412230   4.511848\n",
      "497  14.629721  10.945391\n",
      "498  10.254173  10.862733\n",
      "499   4.619510  17.300494\n",
      "\n",
      "[500 rows x 2 columns]\n"
     ]
    }
   ],
   "source": [
    "print(data)"
   ]
  },
  {
   "cell_type": "code",
   "execution_count": 3,
   "metadata": {},
   "outputs": [
    {
     "data": {
      "image/png": "[encoded data removed]",
      "text/plain": [
       "<Figure size 1200x800 with 1 Axes>"
      ]
     },
     "metadata": {},
     "output_type": "display_data"
    }
   ],
   "source": [
    "# Plotando pontos\n",
    "plt.figure(figsize = (12,8))\n",
    "\n",
    "plt.scatter(x = data['X1'], y = data['X2'], color = \"red\")\n",
    "plt.title(\"Data points\")\n",
    "plt.xlabel(\"X1\")\n",
    "plt.ylabel(\"X2\")\n",
    "plt.show()"
   ]
  },
  {
   "cell_type": "markdown",
   "metadata": {},
   "source": [
    "#### Definição do modelo e treino"
   ]
  },
  {
   "cell_type": "code",
   "execution_count": 4,
   "metadata": {},
   "outputs": [
    {
     "ename": "NameError",
     "evalue": "name 'X' is not defined",
     "output_type": "error",
     "traceback": [
      "\u001b[0;31m---------------------------------------------------------------------------\u001b[0m",
      "\u001b[0;31mNameError\u001b[0m                                 Traceback (most recent call last)",
      "Cell \u001b[0;32mIn[4], line 7\u001b[0m\n\u001b[1;32m      5\u001b[0m \u001b[38;5;28;01mfor\u001b[39;00m i \u001b[38;5;129;01min\u001b[39;00m \u001b[38;5;28mrange\u001b[39m(\u001b[38;5;241m1\u001b[39m,\u001b[38;5;241m11\u001b[39m):\n\u001b[1;32m      6\u001b[0m     model \u001b[38;5;241m=\u001b[39m KMeans(n_clusters \u001b[38;5;241m=\u001b[39m i)\n\u001b[0;32m----> 7\u001b[0m     model\u001b[38;5;241m.\u001b[39mfit(\u001b[43mX\u001b[49m)\n\u001b[1;32m      8\u001b[0m     distances\u001b[38;5;241m.\u001b[39mappend(model\u001b[38;5;241m.\u001b[39minertia_)\n\u001b[1;32m     10\u001b[0m plt\u001b[38;5;241m.\u001b[39mfigure(figsize \u001b[38;5;241m=\u001b[39m (\u001b[38;5;241m10\u001b[39m,\u001b[38;5;241m5\u001b[39m))\n",
      "\u001b[0;31mNameError\u001b[0m: name 'X' is not defined"
     ]
    }
   ],
   "source": [
    "# +Definindo um bom número de clusters\n",
    "# Método do cotovelo (ELBOW METHOD)\n",
    "\n",
    "distances = []\n",
    "for i in range(1,11):\n",
    "    model = KMeans(n_clusters = i)\n",
    "    model.fit(X)\n",
    "    distances.append(model.inertia_)\n",
    "\n",
    "plt.figure(figsize = (10,5))\n",
    "plt.plot(range(1,11), distances, marker = '*')\n",
    "plt.xlabel(\"# clusters\")\n",
    "plt.ylabel(\"Inertia\")\n",
    "plt.show()"
   ]
  },
  {
   "cell_type": "code",
   "execution_count": null,
   "metadata": {},
   "outputs": [],
   "source": [
    "# instanciando modelos\n",
    "model = KMeans(n_clusters = 4)\n",
    "\n",
    "# Treinando modelo\n",
    "model.fit(X)"
   ]
  },
  {
   "cell_type": "markdown",
   "metadata": {},
   "source": [
    "#### Avaliando modelos"
   ]
  },
  {
   "cell_type": "code",
   "execution_count": null,
   "metadata": {},
   "outputs": [],
   "source": [
    "# Calinki-Harabasz e Silhouette Score\n",
    "\n",
    "print(f'Calinski-Harabasz score: {calinski_harabasz_score(X, model.labels_)}')\n",
    "print(f'Silhouette score: {silhouette_score(X, model.labels_)}')"
   ]
  },
  {
   "cell_type": "code",
   "execution_count": null,
   "metadata": {},
   "outputs": [],
   "source": [
    "# Printando rótulos\n",
    "print(model.labels_)"
   ]
  },
  {
   "cell_type": "markdown",
   "metadata": {},
   "source": [
    "#### Analisando clusters"
   ]
  },
  {
   "cell_type": "code",
   "execution_count": null,
   "metadata": {},
   "outputs": [],
   "source": [
    "plt.figure(figsize = (12,8))\n",
    "\n",
    "labels = list(set(model.labels_))\n",
    "colors = ['red', 'green', 'purple', 'blue']\n",
    "\n",
    "for i,l in enumerate(labels):\n",
    "    data_cluster = data.iloc[np.where(model.labels_ == l)[0],:]\n",
    "    plt.scatter(data_cluster[\"X1\"], data_cluster[\"X2\"], color = colors[i], label = l)\n",
    "    \n",
    "plt.scatter(x = model.cluster_centers_[:,0], y = model.cluster_centers_[:,1], marker = 'v', color = 'black', label = \"centers\")\n",
    "\n",
    "plt.legend()\n",
    "plt.title(\"Clusters\")\n",
    "plt.xlabel(\"X1\")\n",
    "plt.ylabel(\"X2\")\n",
    "plt.show()"
   ]
  },
  {
   "cell_type": "markdown",
   "metadata": {},
   "source": [
    "#### Exercício de Desafio\n",
    "\n",
    "Dado o seguinte conjunto de dados \n",
    "\n",
    "    Id,Feature1,Feature2\n",
    "    1,2.5,3.5\n",
    "    2,1.8,2.0\n",
    "    3,3.0,3.2\n",
    "    4,1.5,2.8\n",
    "    5,2.0,3.0\n",
    "    6,4.0,4.5\n",
    "    7,3.5,4.0\n",
    "    8,4.2,3.8\n",
    "    9,4.5,4.0\n",
    "    10,3.7,3.5\n",
    "\n",
    "- Coloque esses dados dentro de um Dataframe do Pandas e salve em um arquivo CSV (Dica: Use dicionário no python e desconsidere a coluna ID)\n",
    "\n",
    "- Após a análise exploratória, use o método do Cotovelo para definir a quantidade de Clusters\n",
    "\n",
    "- Treine o Modelo e o valide usando o método da Silhueta (Não é necessário plotar o gráfico final se não quiser)"
   ]
  },
  {
   "cell_type": "markdown",
   "metadata": {},
   "source": [
    "#### Leitura de Dados"
   ]
  },
  {
   "cell_type": "code",
   "execution_count": null,
   "metadata": {},
   "outputs": [],
   "source": [
    "data = {'Id' : [1, 2, 3, 4, 5, 6, 7, 8, 9, 10],\n",
    "                   'Feature1' : [2.5, 1.8, 3.0, 1.5, 2.0, 4.0, 3.5, 4.2, 4.5, 3.7],\n",
    "                   'Feature2' : [3.5, 2.0, 3.2, 2.8, 3.0, 4.5, 4.0, 3.8, 4.0, 3.5]}\n",
    "df = pd.DataFrame(data)\n",
    "\n",
    "# Salvando em um arquivo CSV\n",
    "df.to_csv('dados.csv', index=False)"
   ]
  },
  {
   "cell_type": "markdown",
   "metadata": {},
   "source": [
    "#### Análise Exploratória"
   ]
  },
  {
   "cell_type": "code",
   "execution_count": null,
   "metadata": {},
   "outputs": [],
   "source": [
    "# Carregando os dados\n",
    "df = pd.read_csv('dados.csv')\n",
    "\n",
    "# Removendo a coluna 'Id'\n",
    "X = df.drop(columns=['Id'])\n",
    "\n",
    "# Lista para armazenar os valores de inércia\n",
    "inertia = []\n",
    "\n",
    "# Testando diferentes números de clusters\n",
    "for i in range(1, 11):\n",
    "    kmeans = KMeans(n_clusters=i, random_state=42)\n",
    "    kmeans.fit(X)\n",
    "    inertia.append(kmeans.inertia_)\n",
    "\n",
    "\n",
    "# Plotando o gráfico\n",
    "plt.scatter(x = df['Feature1'], y = df['Feature2'], color = \"blue\")\n",
    "plt.title(\"Data points\")\n",
    "plt.xlabel(\"Feature1\")\n",
    "plt.ylabel(\"Feature2\")\n",
    "plt.show()\n",
    "\n",
    "# Plotando o método do cotovelo\n",
    "plt.plot(range(1, 11), inertia, marker='o')\n",
    "plt.title('Método do Cotovelo')\n",
    "plt.xlabel('Número de Clusters')\n",
    "plt.ylabel('Inércia')\n",
    "plt.show()\n"
   ]
  },
  {
   "cell_type": "markdown",
   "metadata": {},
   "source": [
    "#### Definição do Modelo e treino"
   ]
  },
  {
   "cell_type": "code",
   "execution_count": null,
   "metadata": {},
   "outputs": [],
   "source": [
    "# Escolhendo o número ótimo de clusters (n_clusters=3)\n",
    "kmeans = KMeans(n_clusters=3, random_state=42)\n",
    "kmeans.fit(X)\n",
    "\n",
    "print(kmeans.labels_)"
   ]
  },
  {
   "cell_type": "markdown",
   "metadata": {},
   "source": [
    "#### Validação dos modelos"
   ]
  },
  {
   "cell_type": "code",
   "execution_count": null,
   "metadata": {},
   "outputs": [],
   "source": [
    "# Calinki-Harabasz e Silhouette Score\n",
    "# instanciando modelos\n",
    "model = KMeans(n_clusters = 4)\n",
    "\n",
    "# Treinando modelo\n",
    "model.fit(X)\n",
    "\n",
    "print(f'Calinski-Harabasz score: {calinski_harabasz_score(X, model.labels_)}')\n",
    "print(f'Silhouette score: {silhouette_score(X, model.labels_)}')"
   ]
  },
  {
   "cell_type": "code",
   "execution_count": null,
   "metadata": {},
   "outputs": [],
   "source": [
    "# Printando rótulos\n",
    "print(model.labels_)"
   ]
  },
  {
   "cell_type": "code",
   "execution_count": null,
   "metadata": {},
   "outputs": [],
   "source": [
    "plt.figure(figsize = (12,8))\n",
    "\n",
    "labels = list(set(model.labels_))\n",
    "colors = ['red', 'green', 'purple', 'blue']\n",
    "\n",
    "for i,l in enumerate(labels):\n",
    "    data_cluster = data.iloc[np.where(model.labels_ == l)[0],:]\n",
    "    plt.scatter(data_cluster[\"X1\"], data_cluster[\"X2\"], color = colors[i], label = l)\n",
    "    \n",
    "plt.scatter(x = model.cluster_centers_[:,0], y = model.cluster_centers_[:,1], marker = 'v', color = 'black', label = \"centers\")\n",
    "\n",
    "plt.legend()\n",
    "plt.title(\"Clusters\")\n",
    "plt.xlabel(\"X1\")\n",
    "plt.ylabel(\"X2\")\n",
    "plt.show()"
   ]
  },
  {
   "cell_type": "code",
   "execution_count": null,
   "metadata": {},
   "outputs": [],
   "source": []
  }
 ],
 "metadata": {
  "kernelspec": {
   "display_name": "Python 3 (ipykernel)",
   "language": "python",
   "name": "python3"
  },
  "language_info": {
   "codemirror_mode": {
    "name": "ipython",
    "version": 3
   },
   "file_extension": ".py",
   "mimetype": "text/x-python",
   "name": "python",
   "nbconvert_exporter": "python",
   "pygments_lexer": "ipython3",
   "version": "3.10.12"
  }
 },
 "nbformat": 4,
 "nbformat_minor": 4
}
